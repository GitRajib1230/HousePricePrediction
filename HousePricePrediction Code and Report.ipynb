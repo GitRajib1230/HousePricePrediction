{
 "cells": [
  {
   "cell_type": "markdown",
   "metadata": {},
   "source": [
    "Name: Md Rajib Hossain"
   ]
  },
  {
   "cell_type": "markdown",
   "metadata": {},
   "source": [
    "<div style=\"background-color: #d1f5d3; border-left: 5px solid #92c892; padding: 10px;\">\n",
    "Goal: Predict house prices, `SalePrice`, using a regression model.\n",
    "</div>"
   ]
  },
  {
   "cell_type": "markdown",
   "metadata": {},
   "source": [
    "<div style=\"background-color: #d1f5d3; border-left: 5px solid #92c892; padding: 10px;\">\n",
    "This dataset contains detailed housing records from Ames, Iowa, providing extensive information on property characteristics, structural attributes, and sale conditions. The dataset includes variables related to lot size, zoning, neighborhood, house style, quality ratings, living space, amenities, and sale prices. These features offer a comprehensive view of factors influencing real estate prices, making it an excellent resource for predictive modeling and exploratory analysis.\n",
    "</div>"
   ]
  },
  {
   "cell_type": "markdown",
   "metadata": {},
   "source": [
    "### Step 1: Preparing WorkSpace by Loading necessary Libraries"
   ]
  },
  {
   "cell_type": "code",
   "execution_count": 55,
   "metadata": {},
   "outputs": [
    {
     "name": "stdout",
     "output_type": "stream",
     "text": [
      "Requirement already satisfied: ace_tools in c:\\users\\hp\\anaconda3\\lib\\site-packages (0.0)\n"
     ]
    }
   ],
   "source": [
    "# Importing necessary libraries\n",
    "! pip install ace_tools\n",
    "import pandas as pd\n",
    "import numpy as np\n",
    "import matplotlib.pyplot as plt\n",
    "import seaborn as sns\n",
    "from sklearn.model_selection import train_test_split, cross_val_score, GridSearchCV\n",
    "from sklearn.linear_model import LinearRegression\n",
    "from statsmodels.tools.tools import add_constant\n",
    "from sklearn.pipeline import Pipeline\n",
    "from sklearn.pipeline import make_pipeline\n",
    "from sklearn.preprocessing import StandardScaler, OneHotEncoder\n",
    "from sklearn.compose import ColumnTransformer\n",
    "from sklearn.metrics import root_mean_squared_error, mean_absolute_error, r2_score, mean_squared_error\n",
    "from statsmodels.stats.outliers_influence import variance_inflation_factor\n",
    "from scipy.stats import pearsonr\n",
    "from scipy.stats import ttest_ind, f_oneway\n",
    "from sklearn.linear_model import LinearRegression, Ridge, Lasso\n",
    "from sklearn.preprocessing import PolynomialFeatures\n",
    "from sklearn.ensemble import RandomForestRegressor, StackingRegressor\n",
    "import warnings"
   ]
  },
  {
   "cell_type": "markdown",
   "metadata": {},
   "source": [
    "### Step 2: Loading Dataset and Cleaning"
   ]
  },
  {
   "cell_type": "code",
   "execution_count": 56,
   "metadata": {},
   "outputs": [
    {
     "data": {
      "text/plain": [
       "79"
      ]
     },
     "execution_count": 56,
     "metadata": {},
     "output_type": "execute_result"
    }
   ],
   "source": [
    "# Loading the dataset\n",
    "data = pd.read_excel('hw_1_house_price_data.xlsx', index_col='Id')\n",
    "\n",
    "# There are 79 features\n",
    "data.drop('SalePrice', axis=1).shape[1]"
   ]
  },
  {
   "cell_type": "markdown",
   "metadata": {},
   "source": [
    "##### Auditing the dataset"
   ]
  },
  {
   "cell_type": "code",
   "execution_count": 57,
   "metadata": {},
   "outputs": [
    {
     "name": "stdout",
     "output_type": "stream",
     "text": [
      "[524, 692, 1183, 1299, 1975, 2121, 2217, 2474, 2550, 2574, 2577]\n"
     ]
    }
   ],
   "source": [
    "# Finding missing indices\n",
    "missing_indices = set(range(1, 2920)) - set(data.index)\n",
    "print(sorted(missing_indices))"
   ]
  },
  {
   "cell_type": "markdown",
   "metadata": {},
   "source": [
    "<div style=\"background-color: #d1f5d3; border-left: 5px solid #92c892; padding: 10px;\">\n",
    "Resetting the index ensures that the dataset has a continuous and properly aligned index, preventing potential errors in machine learning models that expect sequential indexing. It also avoids issues in data iteration, feature selection, and indexing mismatches during training and evaluation.\n",
    "</div>"
   ]
  },
  {
   "cell_type": "code",
   "execution_count": 58,
   "metadata": {},
   "outputs": [],
   "source": [
    "# Resetting index\n",
    "data.reset_index(drop=True, inplace=True)"
   ]
  },
  {
   "cell_type": "code",
   "execution_count": 59,
   "metadata": {},
   "outputs": [
    {
     "data": {
      "application/vnd.microsoft.datawrangler.viewer.v0+json": {
       "columns": [
        {
         "name": "index",
         "rawType": "int64",
         "type": "integer"
        },
        {
         "name": "MSSubClass",
         "rawType": "int64",
         "type": "integer"
        },
        {
         "name": "MSZoning",
         "rawType": "object",
         "type": "string"
        },
        {
         "name": "LotFrontage",
         "rawType": "float64",
         "type": "float"
        },
        {
         "name": "LotArea",
         "rawType": "int64",
         "type": "integer"
        },
        {
         "name": "Street",
         "rawType": "object",
         "type": "string"
        },
        {
         "name": "Alley",
         "rawType": "object",
         "type": "unknown"
        },
        {
         "name": "LotShape",
         "rawType": "object",
         "type": "string"
        },
        {
         "name": "LandContour",
         "rawType": "object",
         "type": "string"
        },
        {
         "name": "Utilities",
         "rawType": "object",
         "type": "string"
        },
        {
         "name": "LotConfig",
         "rawType": "object",
         "type": "string"
        },
        {
         "name": "LandSlope",
         "rawType": "object",
         "type": "string"
        },
        {
         "name": "Neighborhood",
         "rawType": "object",
         "type": "string"
        },
        {
         "name": "Condition1",
         "rawType": "object",
         "type": "string"
        },
        {
         "name": "Condition2",
         "rawType": "object",
         "type": "string"
        },
        {
         "name": "BldgType",
         "rawType": "object",
         "type": "string"
        },
        {
         "name": "HouseStyle",
         "rawType": "object",
         "type": "string"
        },
        {
         "name": "OverallQual",
         "rawType": "int64",
         "type": "integer"
        },
        {
         "name": "OverallCond",
         "rawType": "int64",
         "type": "integer"
        },
        {
         "name": "YearBuilt",
         "rawType": "int64",
         "type": "integer"
        },
        {
         "name": "YearRemodAdd",
         "rawType": "int64",
         "type": "integer"
        },
        {
         "name": "RoofStyle",
         "rawType": "object",
         "type": "string"
        },
        {
         "name": "RoofMatl",
         "rawType": "object",
         "type": "string"
        },
        {
         "name": "Exterior1st",
         "rawType": "object",
         "type": "string"
        },
        {
         "name": "Exterior2nd",
         "rawType": "object",
         "type": "string"
        },
        {
         "name": "MasVnrType",
         "rawType": "object",
         "type": "unknown"
        },
        {
         "name": "MasVnrArea",
         "rawType": "float64",
         "type": "float"
        },
        {
         "name": "ExterQual",
         "rawType": "object",
         "type": "string"
        },
        {
         "name": "ExterCond",
         "rawType": "object",
         "type": "string"
        },
        {
         "name": "Foundation",
         "rawType": "object",
         "type": "string"
        },
        {
         "name": "BsmtQual",
         "rawType": "object",
         "type": "string"
        },
        {
         "name": "BsmtCond",
         "rawType": "object",
         "type": "string"
        },
        {
         "name": "BsmtExposure",
         "rawType": "object",
         "type": "string"
        },
        {
         "name": "BsmtFinType1",
         "rawType": "object",
         "type": "string"
        },
        {
         "name": "BsmtFinSF1",
         "rawType": "int64",
         "type": "integer"
        },
        {
         "name": "BsmtFinType2",
         "rawType": "object",
         "type": "string"
        },
        {
         "name": "BsmtFinSF2",
         "rawType": "int64",
         "type": "integer"
        },
        {
         "name": "BsmtUnfSF",
         "rawType": "int64",
         "type": "integer"
        },
        {
         "name": "TotalBsmtSF",
         "rawType": "int64",
         "type": "integer"
        },
        {
         "name": "Heating",
         "rawType": "object",
         "type": "string"
        },
        {
         "name": "HeatingQC",
         "rawType": "object",
         "type": "string"
        },
        {
         "name": "CentralAir",
         "rawType": "object",
         "type": "string"
        },
        {
         "name": "Electrical",
         "rawType": "object",
         "type": "string"
        },
        {
         "name": "1stFlrSF",
         "rawType": "int64",
         "type": "integer"
        },
        {
         "name": "2ndFlrSF",
         "rawType": "int64",
         "type": "integer"
        },
        {
         "name": "LowQualFinSF",
         "rawType": "int64",
         "type": "integer"
        },
        {
         "name": "GrLivArea",
         "rawType": "int64",
         "type": "integer"
        },
        {
         "name": "BsmtFullBath",
         "rawType": "float64",
         "type": "float"
        },
        {
         "name": "BsmtHalfBath",
         "rawType": "float64",
         "type": "float"
        },
        {
         "name": "FullBath",
         "rawType": "int64",
         "type": "integer"
        },
        {
         "name": "HalfBath",
         "rawType": "int64",
         "type": "integer"
        },
        {
         "name": "BedroomAbvGr",
         "rawType": "int64",
         "type": "integer"
        },
        {
         "name": "KitchenAbvGr",
         "rawType": "int64",
         "type": "integer"
        },
        {
         "name": "KitchenQual",
         "rawType": "object",
         "type": "string"
        },
        {
         "name": "TotRmsAbvGrd",
         "rawType": "int64",
         "type": "integer"
        },
        {
         "name": "Functional",
         "rawType": "object",
         "type": "string"
        },
        {
         "name": "Fireplaces",
         "rawType": "int64",
         "type": "integer"
        },
        {
         "name": "FireplaceQu",
         "rawType": "object",
         "type": "unknown"
        },
        {
         "name": "GarageType",
         "rawType": "object",
         "type": "string"
        },
        {
         "name": "GarageYrBlt",
         "rawType": "float64",
         "type": "float"
        },
        {
         "name": "GarageFinish",
         "rawType": "object",
         "type": "string"
        },
        {
         "name": "GarageCars",
         "rawType": "int64",
         "type": "integer"
        },
        {
         "name": "GarageArea",
         "rawType": "int64",
         "type": "integer"
        },
        {
         "name": "GarageQual",
         "rawType": "object",
         "type": "string"
        },
        {
         "name": "GarageCond",
         "rawType": "object",
         "type": "string"
        },
        {
         "name": "PavedDrive",
         "rawType": "object",
         "type": "string"
        },
        {
         "name": "WoodDeckSF",
         "rawType": "int64",
         "type": "integer"
        },
        {
         "name": "OpenPorchSF",
         "rawType": "int64",
         "type": "integer"
        },
        {
         "name": "EnclosedPorch",
         "rawType": "int64",
         "type": "integer"
        },
        {
         "name": "3SsnPorch",
         "rawType": "int64",
         "type": "integer"
        },
        {
         "name": "ScreenPorch",
         "rawType": "int64",
         "type": "integer"
        },
        {
         "name": "PoolArea",
         "rawType": "int64",
         "type": "integer"
        },
        {
         "name": "PoolQC",
         "rawType": "object",
         "type": "unknown"
        },
        {
         "name": "Fence",
         "rawType": "object",
         "type": "unknown"
        },
        {
         "name": "MiscFeature",
         "rawType": "object",
         "type": "unknown"
        },
        {
         "name": "MiscVal",
         "rawType": "int64",
         "type": "integer"
        },
        {
         "name": "MoSold",
         "rawType": "int64",
         "type": "integer"
        },
        {
         "name": "YrSold",
         "rawType": "int64",
         "type": "integer"
        },
        {
         "name": "SaleType",
         "rawType": "object",
         "type": "string"
        },
        {
         "name": "SaleCondition",
         "rawType": "object",
         "type": "string"
        },
        {
         "name": "SalePrice",
         "rawType": "int64",
         "type": "integer"
        }
       ],
       "conversionMethod": "pd.DataFrame",
       "ref": "ed39324c-65dd-4bbb-9f1c-08380a0c8984",
       "rows": [
        [
         "0",
         "60",
         "RL",
         "65.0",
         "8450",
         "Pave",
         null,
         "Reg",
         "Lvl",
         "AllPub",
         "Inside",
         "Gtl",
         "CollgCr",
         "Norm",
         "Norm",
         "1Fam",
         "2Story",
         "7",
         "5",
         "2003",
         "2003",
         "Gable",
         "CompShg",
         "VinylSd",
         "VinylSd",
         "BrkFace",
         "196.0",
         "Gd",
         "TA",
         "PConc",
         "Gd",
         "TA",
         "No",
         "GLQ",
         "706",
         "Unf",
         "0",
         "150",
         "856",
         "GasA",
         "Ex",
         "Y",
         "SBrkr",
         "856",
         "854",
         "0",
         "1710",
         "1.0",
         "0.0",
         "2",
         "1",
         "3",
         "1",
         "Gd",
         "8",
         "Typ",
         "0",
         null,
         "Attchd",
         "2003.0",
         "RFn",
         "2",
         "548",
         "TA",
         "TA",
         "Y",
         "0",
         "61",
         "0",
         "0",
         "0",
         "0",
         null,
         null,
         null,
         "0",
         "2",
         "2008",
         "WD",
         "Normal",
         "208500"
        ],
        [
         "1",
         "20",
         "RL",
         "80.0",
         "9600",
         "Pave",
         null,
         "Reg",
         "Lvl",
         "AllPub",
         "FR2",
         "Gtl",
         "Veenker",
         "Feedr",
         "Norm",
         "1Fam",
         "1Story",
         "6",
         "8",
         "1976",
         "1976",
         "Gable",
         "CompShg",
         "MetalSd",
         "MetalSd",
         null,
         "0.0",
         "TA",
         "TA",
         "CBlock",
         "Gd",
         "TA",
         "Gd",
         "ALQ",
         "978",
         "Unf",
         "0",
         "284",
         "1262",
         "GasA",
         "Ex",
         "Y",
         "SBrkr",
         "1262",
         "0",
         "0",
         "1262",
         "0.0",
         "1.0",
         "2",
         "0",
         "3",
         "1",
         "TA",
         "6",
         "Typ",
         "1",
         "TA",
         "Attchd",
         "1976.0",
         "RFn",
         "2",
         "460",
         "TA",
         "TA",
         "Y",
         "298",
         "0",
         "0",
         "0",
         "0",
         "0",
         null,
         null,
         null,
         "0",
         "5",
         "2007",
         "WD",
         "Normal",
         "181500"
        ],
        [
         "2",
         "60",
         "RL",
         "68.0",
         "11250",
         "Pave",
         null,
         "IR1",
         "Lvl",
         "AllPub",
         "Inside",
         "Gtl",
         "CollgCr",
         "Norm",
         "Norm",
         "1Fam",
         "2Story",
         "7",
         "5",
         "2001",
         "2002",
         "Gable",
         "CompShg",
         "VinylSd",
         "VinylSd",
         "BrkFace",
         "162.0",
         "Gd",
         "TA",
         "PConc",
         "Gd",
         "TA",
         "Mn",
         "GLQ",
         "486",
         "Unf",
         "0",
         "434",
         "920",
         "GasA",
         "Ex",
         "Y",
         "SBrkr",
         "920",
         "866",
         "0",
         "1786",
         "1.0",
         "0.0",
         "2",
         "1",
         "3",
         "1",
         "Gd",
         "6",
         "Typ",
         "1",
         "TA",
         "Attchd",
         "2001.0",
         "RFn",
         "2",
         "608",
         "TA",
         "TA",
         "Y",
         "0",
         "42",
         "0",
         "0",
         "0",
         "0",
         null,
         null,
         null,
         "0",
         "9",
         "2008",
         "WD",
         "Normal",
         "223500"
        ],
        [
         "3",
         "70",
         "RL",
         "60.0",
         "9550",
         "Pave",
         null,
         "IR1",
         "Lvl",
         "AllPub",
         "Corner",
         "Gtl",
         "Crawfor",
         "Norm",
         "Norm",
         "1Fam",
         "2Story",
         "7",
         "5",
         "1915",
         "1970",
         "Gable",
         "CompShg",
         "Wd Sdng",
         "Wd Shng",
         null,
         "0.0",
         "TA",
         "TA",
         "BrkTil",
         "TA",
         "Gd",
         "No",
         "ALQ",
         "216",
         "Unf",
         "0",
         "540",
         "756",
         "GasA",
         "Gd",
         "Y",
         "SBrkr",
         "961",
         "756",
         "0",
         "1717",
         "1.0",
         "0.0",
         "1",
         "0",
         "3",
         "1",
         "Gd",
         "7",
         "Typ",
         "1",
         "Gd",
         "Detchd",
         "1998.0",
         "Unf",
         "3",
         "642",
         "TA",
         "TA",
         "Y",
         "0",
         "35",
         "272",
         "0",
         "0",
         "0",
         null,
         null,
         null,
         "0",
         "2",
         "2006",
         "WD",
         "Abnorml",
         "140000"
        ],
        [
         "4",
         "60",
         "RL",
         "84.0",
         "14260",
         "Pave",
         null,
         "IR1",
         "Lvl",
         "AllPub",
         "FR2",
         "Gtl",
         "NoRidge",
         "Norm",
         "Norm",
         "1Fam",
         "2Story",
         "8",
         "5",
         "2000",
         "2000",
         "Gable",
         "CompShg",
         "VinylSd",
         "VinylSd",
         "BrkFace",
         "350.0",
         "Gd",
         "TA",
         "PConc",
         "Gd",
         "TA",
         "Av",
         "GLQ",
         "655",
         "Unf",
         "0",
         "490",
         "1145",
         "GasA",
         "Ex",
         "Y",
         "SBrkr",
         "1145",
         "1053",
         "0",
         "2198",
         "1.0",
         "0.0",
         "2",
         "1",
         "4",
         "1",
         "Gd",
         "9",
         "Typ",
         "1",
         "TA",
         "Attchd",
         "2000.0",
         "RFn",
         "3",
         "836",
         "TA",
         "TA",
         "Y",
         "192",
         "84",
         "0",
         "0",
         "0",
         "0",
         null,
         null,
         null,
         "0",
         "12",
         "2008",
         "WD",
         "Normal",
         "250000"
        ]
       ],
       "shape": {
        "columns": 80,
        "rows": 5
       }
      },
      "text/html": [
       "<div>\n",
       "<style scoped>\n",
       "    .dataframe tbody tr th:only-of-type {\n",
       "        vertical-align: middle;\n",
       "    }\n",
       "\n",
       "    .dataframe tbody tr th {\n",
       "        vertical-align: top;\n",
       "    }\n",
       "\n",
       "    .dataframe thead th {\n",
       "        text-align: right;\n",
       "    }\n",
       "</style>\n",
       "<table border=\"1\" class=\"dataframe\">\n",
       "  <thead>\n",
       "    <tr style=\"text-align: right;\">\n",
       "      <th></th>\n",
       "      <th>MSSubClass</th>\n",
       "      <th>MSZoning</th>\n",
       "      <th>LotFrontage</th>\n",
       "      <th>LotArea</th>\n",
       "      <th>Street</th>\n",
       "      <th>Alley</th>\n",
       "      <th>LotShape</th>\n",
       "      <th>LandContour</th>\n",
       "      <th>Utilities</th>\n",
       "      <th>LotConfig</th>\n",
       "      <th>...</th>\n",
       "      <th>PoolArea</th>\n",
       "      <th>PoolQC</th>\n",
       "      <th>Fence</th>\n",
       "      <th>MiscFeature</th>\n",
       "      <th>MiscVal</th>\n",
       "      <th>MoSold</th>\n",
       "      <th>YrSold</th>\n",
       "      <th>SaleType</th>\n",
       "      <th>SaleCondition</th>\n",
       "      <th>SalePrice</th>\n",
       "    </tr>\n",
       "  </thead>\n",
       "  <tbody>\n",
       "    <tr>\n",
       "      <th>0</th>\n",
       "      <td>60</td>\n",
       "      <td>RL</td>\n",
       "      <td>65.0</td>\n",
       "      <td>8450</td>\n",
       "      <td>Pave</td>\n",
       "      <td>NaN</td>\n",
       "      <td>Reg</td>\n",
       "      <td>Lvl</td>\n",
       "      <td>AllPub</td>\n",
       "      <td>Inside</td>\n",
       "      <td>...</td>\n",
       "      <td>0</td>\n",
       "      <td>NaN</td>\n",
       "      <td>NaN</td>\n",
       "      <td>NaN</td>\n",
       "      <td>0</td>\n",
       "      <td>2</td>\n",
       "      <td>2008</td>\n",
       "      <td>WD</td>\n",
       "      <td>Normal</td>\n",
       "      <td>208500</td>\n",
       "    </tr>\n",
       "    <tr>\n",
       "      <th>1</th>\n",
       "      <td>20</td>\n",
       "      <td>RL</td>\n",
       "      <td>80.0</td>\n",
       "      <td>9600</td>\n",
       "      <td>Pave</td>\n",
       "      <td>NaN</td>\n",
       "      <td>Reg</td>\n",
       "      <td>Lvl</td>\n",
       "      <td>AllPub</td>\n",
       "      <td>FR2</td>\n",
       "      <td>...</td>\n",
       "      <td>0</td>\n",
       "      <td>NaN</td>\n",
       "      <td>NaN</td>\n",
       "      <td>NaN</td>\n",
       "      <td>0</td>\n",
       "      <td>5</td>\n",
       "      <td>2007</td>\n",
       "      <td>WD</td>\n",
       "      <td>Normal</td>\n",
       "      <td>181500</td>\n",
       "    </tr>\n",
       "    <tr>\n",
       "      <th>2</th>\n",
       "      <td>60</td>\n",
       "      <td>RL</td>\n",
       "      <td>68.0</td>\n",
       "      <td>11250</td>\n",
       "      <td>Pave</td>\n",
       "      <td>NaN</td>\n",
       "      <td>IR1</td>\n",
       "      <td>Lvl</td>\n",
       "      <td>AllPub</td>\n",
       "      <td>Inside</td>\n",
       "      <td>...</td>\n",
       "      <td>0</td>\n",
       "      <td>NaN</td>\n",
       "      <td>NaN</td>\n",
       "      <td>NaN</td>\n",
       "      <td>0</td>\n",
       "      <td>9</td>\n",
       "      <td>2008</td>\n",
       "      <td>WD</td>\n",
       "      <td>Normal</td>\n",
       "      <td>223500</td>\n",
       "    </tr>\n",
       "    <tr>\n",
       "      <th>3</th>\n",
       "      <td>70</td>\n",
       "      <td>RL</td>\n",
       "      <td>60.0</td>\n",
       "      <td>9550</td>\n",
       "      <td>Pave</td>\n",
       "      <td>NaN</td>\n",
       "      <td>IR1</td>\n",
       "      <td>Lvl</td>\n",
       "      <td>AllPub</td>\n",
       "      <td>Corner</td>\n",
       "      <td>...</td>\n",
       "      <td>0</td>\n",
       "      <td>NaN</td>\n",
       "      <td>NaN</td>\n",
       "      <td>NaN</td>\n",
       "      <td>0</td>\n",
       "      <td>2</td>\n",
       "      <td>2006</td>\n",
       "      <td>WD</td>\n",
       "      <td>Abnorml</td>\n",
       "      <td>140000</td>\n",
       "    </tr>\n",
       "    <tr>\n",
       "      <th>4</th>\n",
       "      <td>60</td>\n",
       "      <td>RL</td>\n",
       "      <td>84.0</td>\n",
       "      <td>14260</td>\n",
       "      <td>Pave</td>\n",
       "      <td>NaN</td>\n",
       "      <td>IR1</td>\n",
       "      <td>Lvl</td>\n",
       "      <td>AllPub</td>\n",
       "      <td>FR2</td>\n",
       "      <td>...</td>\n",
       "      <td>0</td>\n",
       "      <td>NaN</td>\n",
       "      <td>NaN</td>\n",
       "      <td>NaN</td>\n",
       "      <td>0</td>\n",
       "      <td>12</td>\n",
       "      <td>2008</td>\n",
       "      <td>WD</td>\n",
       "      <td>Normal</td>\n",
       "      <td>250000</td>\n",
       "    </tr>\n",
       "  </tbody>\n",
       "</table>\n",
       "<p>5 rows × 80 columns</p>\n",
       "</div>"
      ],
      "text/plain": [
       "   MSSubClass MSZoning  LotFrontage  LotArea Street Alley LotShape  \\\n",
       "0          60       RL         65.0     8450   Pave   NaN      Reg   \n",
       "1          20       RL         80.0     9600   Pave   NaN      Reg   \n",
       "2          60       RL         68.0    11250   Pave   NaN      IR1   \n",
       "3          70       RL         60.0     9550   Pave   NaN      IR1   \n",
       "4          60       RL         84.0    14260   Pave   NaN      IR1   \n",
       "\n",
       "  LandContour Utilities LotConfig  ... PoolArea PoolQC Fence MiscFeature  \\\n",
       "0         Lvl    AllPub    Inside  ...        0    NaN   NaN         NaN   \n",
       "1         Lvl    AllPub       FR2  ...        0    NaN   NaN         NaN   \n",
       "2         Lvl    AllPub    Inside  ...        0    NaN   NaN         NaN   \n",
       "3         Lvl    AllPub    Corner  ...        0    NaN   NaN         NaN   \n",
       "4         Lvl    AllPub       FR2  ...        0    NaN   NaN         NaN   \n",
       "\n",
       "  MiscVal MoSold  YrSold  SaleType  SaleCondition  SalePrice  \n",
       "0       0      2    2008        WD         Normal     208500  \n",
       "1       0      5    2007        WD         Normal     181500  \n",
       "2       0      9    2008        WD         Normal     223500  \n",
       "3       0      2    2006        WD        Abnorml     140000  \n",
       "4       0     12    2008        WD         Normal     250000  \n",
       "\n",
       "[5 rows x 80 columns]"
      ]
     },
     "execution_count": 59,
     "metadata": {},
     "output_type": "execute_result"
    }
   ],
   "source": [
    "# Understand the dataset\n",
    "data.head()"
   ]
  },
  {
   "cell_type": "code",
   "execution_count": 60,
   "metadata": {},
   "outputs": [
    {
     "name": "stdout",
     "output_type": "stream",
     "text": [
      "<class 'pandas.core.frame.DataFrame'>\n",
      "RangeIndex: 2908 entries, 0 to 2907\n",
      "Data columns (total 80 columns):\n",
      " #   Column         Non-Null Count  Dtype  \n",
      "---  ------         --------------  -----  \n",
      " 0   MSSubClass     2908 non-null   int64  \n",
      " 1   MSZoning       2905 non-null   object \n",
      " 2   LotFrontage    2422 non-null   float64\n",
      " 3   LotArea        2908 non-null   int64  \n",
      " 4   Street         2908 non-null   object \n",
      " 5   Alley          197 non-null    object \n",
      " 6   LotShape       2908 non-null   object \n",
      " 7   LandContour    2908 non-null   object \n",
      " 8   Utilities      2906 non-null   object \n",
      " 9   LotConfig      2908 non-null   object \n",
      " 10  LandSlope      2908 non-null   object \n",
      " 11  Neighborhood   2908 non-null   object \n",
      " 12  Condition1     2908 non-null   object \n",
      " 13  Condition2     2908 non-null   object \n",
      " 14  BldgType       2908 non-null   object \n",
      " 15  HouseStyle     2908 non-null   object \n",
      " 16  OverallQual    2908 non-null   int64  \n",
      " 17  OverallCond    2908 non-null   int64  \n",
      " 18  YearBuilt      2908 non-null   int64  \n",
      " 19  YearRemodAdd   2908 non-null   int64  \n",
      " 20  RoofStyle      2908 non-null   object \n",
      " 21  RoofMatl       2908 non-null   object \n",
      " 22  Exterior1st    2907 non-null   object \n",
      " 23  Exterior2nd    2907 non-null   object \n",
      " 24  MasVnrType     1148 non-null   object \n",
      " 25  MasVnrArea     2885 non-null   float64\n",
      " 26  ExterQual      2908 non-null   object \n",
      " 27  ExterCond      2908 non-null   object \n",
      " 28  Foundation     2908 non-null   object \n",
      " 29  BsmtQual       2829 non-null   object \n",
      " 30  BsmtCond       2828 non-null   object \n",
      " 31  BsmtExposure   2828 non-null   object \n",
      " 32  BsmtFinType1   2831 non-null   object \n",
      " 33  BsmtFinSF1     2908 non-null   int64  \n",
      " 34  BsmtFinType2   2830 non-null   object \n",
      " 35  BsmtFinSF2     2908 non-null   int64  \n",
      " 36  BsmtUnfSF      2908 non-null   int64  \n",
      " 37  TotalBsmtSF    2908 non-null   int64  \n",
      " 38  Heating        2908 non-null   object \n",
      " 39  HeatingQC      2908 non-null   object \n",
      " 40  CentralAir     2908 non-null   object \n",
      " 41  Electrical     2907 non-null   object \n",
      " 42  1stFlrSF       2908 non-null   int64  \n",
      " 43  2ndFlrSF       2908 non-null   int64  \n",
      " 44  LowQualFinSF   2908 non-null   int64  \n",
      " 45  GrLivArea      2908 non-null   int64  \n",
      " 46  BsmtFullBath   2907 non-null   float64\n",
      " 47  BsmtHalfBath   2907 non-null   float64\n",
      " 48  FullBath       2908 non-null   int64  \n",
      " 49  HalfBath       2908 non-null   int64  \n",
      " 50  BedroomAbvGr   2908 non-null   int64  \n",
      " 51  KitchenAbvGr   2908 non-null   int64  \n",
      " 52  KitchenQual    2907 non-null   object \n",
      " 53  TotRmsAbvGrd   2908 non-null   int64  \n",
      " 54  Functional     2908 non-null   object \n",
      " 55  Fireplaces     2908 non-null   int64  \n",
      " 56  FireplaceQu    1492 non-null   object \n",
      " 57  GarageType     2751 non-null   object \n",
      " 58  GarageYrBlt    2750 non-null   float64\n",
      " 59  GarageFinish   2750 non-null   object \n",
      " 60  GarageCars     2908 non-null   int64  \n",
      " 61  GarageArea     2908 non-null   int64  \n",
      " 62  GarageQual     2750 non-null   object \n",
      " 63  GarageCond     2750 non-null   object \n",
      " 64  PavedDrive     2908 non-null   object \n",
      " 65  WoodDeckSF     2908 non-null   int64  \n",
      " 66  OpenPorchSF    2908 non-null   int64  \n",
      " 67  EnclosedPorch  2908 non-null   int64  \n",
      " 68  3SsnPorch      2908 non-null   int64  \n",
      " 69  ScreenPorch    2908 non-null   int64  \n",
      " 70  PoolArea       2908 non-null   int64  \n",
      " 71  PoolQC         6 non-null      object \n",
      " 72  Fence          568 non-null    object \n",
      " 73  MiscFeature    105 non-null    object \n",
      " 74  MiscVal        2908 non-null   int64  \n",
      " 75  MoSold         2908 non-null   int64  \n",
      " 76  YrSold         2908 non-null   int64  \n",
      " 77  SaleType       2907 non-null   object \n",
      " 78  SaleCondition  2908 non-null   object \n",
      " 79  SalePrice      2908 non-null   int64  \n",
      "dtypes: float64(5), int64(32), object(43)\n",
      "memory usage: 1.8+ MB\n"
     ]
    }
   ],
   "source": [
    "# Understand the variables\n",
    "data.info()"
   ]
  },
  {
   "cell_type": "code",
   "execution_count": 61,
   "metadata": {},
   "outputs": [
    {
     "data": {
      "application/vnd.microsoft.datawrangler.viewer.v0+json": {
       "columns": [
        {
         "name": "index",
         "rawType": "object",
         "type": "string"
        },
        {
         "name": "MSSubClass",
         "rawType": "float64",
         "type": "float"
        },
        {
         "name": "LotFrontage",
         "rawType": "float64",
         "type": "float"
        },
        {
         "name": "LotArea",
         "rawType": "float64",
         "type": "float"
        },
        {
         "name": "OverallQual",
         "rawType": "float64",
         "type": "float"
        },
        {
         "name": "OverallCond",
         "rawType": "float64",
         "type": "float"
        },
        {
         "name": "YearBuilt",
         "rawType": "float64",
         "type": "float"
        },
        {
         "name": "YearRemodAdd",
         "rawType": "float64",
         "type": "float"
        },
        {
         "name": "MasVnrArea",
         "rawType": "float64",
         "type": "float"
        },
        {
         "name": "BsmtFinSF1",
         "rawType": "float64",
         "type": "float"
        },
        {
         "name": "BsmtFinSF2",
         "rawType": "float64",
         "type": "float"
        },
        {
         "name": "BsmtUnfSF",
         "rawType": "float64",
         "type": "float"
        },
        {
         "name": "TotalBsmtSF",
         "rawType": "float64",
         "type": "float"
        },
        {
         "name": "1stFlrSF",
         "rawType": "float64",
         "type": "float"
        },
        {
         "name": "2ndFlrSF",
         "rawType": "float64",
         "type": "float"
        },
        {
         "name": "LowQualFinSF",
         "rawType": "float64",
         "type": "float"
        },
        {
         "name": "GrLivArea",
         "rawType": "float64",
         "type": "float"
        },
        {
         "name": "BsmtFullBath",
         "rawType": "float64",
         "type": "float"
        },
        {
         "name": "BsmtHalfBath",
         "rawType": "float64",
         "type": "float"
        },
        {
         "name": "FullBath",
         "rawType": "float64",
         "type": "float"
        },
        {
         "name": "HalfBath",
         "rawType": "float64",
         "type": "float"
        },
        {
         "name": "BedroomAbvGr",
         "rawType": "float64",
         "type": "float"
        },
        {
         "name": "KitchenAbvGr",
         "rawType": "float64",
         "type": "float"
        },
        {
         "name": "TotRmsAbvGrd",
         "rawType": "float64",
         "type": "float"
        },
        {
         "name": "Fireplaces",
         "rawType": "float64",
         "type": "float"
        },
        {
         "name": "GarageYrBlt",
         "rawType": "float64",
         "type": "float"
        },
        {
         "name": "GarageCars",
         "rawType": "float64",
         "type": "float"
        },
        {
         "name": "GarageArea",
         "rawType": "float64",
         "type": "float"
        },
        {
         "name": "WoodDeckSF",
         "rawType": "float64",
         "type": "float"
        },
        {
         "name": "OpenPorchSF",
         "rawType": "float64",
         "type": "float"
        },
        {
         "name": "EnclosedPorch",
         "rawType": "float64",
         "type": "float"
        },
        {
         "name": "3SsnPorch",
         "rawType": "float64",
         "type": "float"
        },
        {
         "name": "ScreenPorch",
         "rawType": "float64",
         "type": "float"
        },
        {
         "name": "PoolArea",
         "rawType": "float64",
         "type": "float"
        },
        {
         "name": "MiscVal",
         "rawType": "float64",
         "type": "float"
        },
        {
         "name": "MoSold",
         "rawType": "float64",
         "type": "float"
        },
        {
         "name": "YrSold",
         "rawType": "float64",
         "type": "float"
        },
        {
         "name": "SalePrice",
         "rawType": "float64",
         "type": "float"
        }
       ],
       "conversionMethod": "pd.DataFrame",
       "ref": "4ec14111-885a-4a80-80bc-3bb15a5f506d",
       "rows": [
        [
         "count",
         "2908.0",
         "2422.0",
         "2908.0",
         "2908.0",
         "2908.0",
         "2908.0",
         "2908.0",
         "2885.0",
         "2908.0",
         "2908.0",
         "2908.0",
         "2908.0",
         "2908.0",
         "2908.0",
         "2908.0",
         "2908.0",
         "2907.0",
         "2907.0",
         "2908.0",
         "2908.0",
         "2908.0",
         "2908.0",
         "2908.0",
         "2908.0",
         "2750.0",
         "2908.0",
         "2908.0",
         "2908.0",
         "2908.0",
         "2908.0",
         "2908.0",
         "2908.0",
         "2908.0",
         "2908.0",
         "2908.0",
         "2908.0",
         "2908.0"
        ],
        [
         "mean",
         "57.19566712517194",
         "69.08381502890174",
         "10120.229711141677",
         "6.083906464924347",
         "5.566712517193948",
         "1971.2960797799174",
         "1984.2544704264099",
         "100.98544194107453",
         "436.6585281980743",
         "49.75275103163686",
         "560.8583218707015",
         "1047.2696011004127",
         "1154.8851444291608",
         "335.0691196698762",
         "4.6729711141678125",
         "1494.627235213205",
         "0.42896456828345375",
         "0.0608875128998968",
         "1.5663686382393398",
         "0.3792984869325997",
         "2.861072902338377",
         "1.0447042640990372",
         "6.444635488308116",
         "0.5949105914718019",
         "1978.1029090909092",
         "1.764786795048143",
         "471.8830811554333",
         "93.34938101788171",
         "47.099037138927095",
         "23.05467675378267",
         "2.6121045392022006",
         "16.019944979367263",
         "1.7764786795048142",
         "45.172283356258596",
         "6.216987620357634",
         "2007.7943603851445",
         "180272.2135488308"
        ],
        [
         "std",
         "42.56909503239166",
         "22.691072085631983",
         "7794.469990994042",
         "1.396531999113197",
         "1.1112920379866846",
         "30.272561148386433",
         "20.884876934843927",
         "176.05373008475397",
         "436.81716339229354",
         "169.4713580110217",
         "439.8236518532",
         "419.91636702041006",
         "375.32458954773267",
         "426.26887057301576",
         "46.43947348392889",
         "486.03582957522866",
         "0.5233965726361445",
         "0.24485266031603126",
         "0.5515063191806987",
         "0.502704679518926",
         "0.8223472852967244",
         "0.21484984530094642",
         "1.5544344186080987",
         "0.6432429546534486",
         "25.54804799149628",
         "0.7609117175037455",
         "214.16289644847924",
         "126.26202685345106",
         "66.64234715684276",
         "64.20038264595777",
         "25.235270349207468",
         "56.147021988287634",
         "32.68688276930472",
         "473.60426579582366",
         "2.7106842340454573",
         "1.316852152199366",
         "78139.09080792528"
        ],
        [
         "min",
         "20.0",
         "21.0",
         "1300.0",
         "1.0",
         "1.0",
         "1872.0",
         "1950.0",
         "0.0",
         "0.0",
         "0.0",
         "0.0",
         "0.0",
         "334.0",
         "0.0",
         "0.0",
         "334.0",
         "0.0",
         "0.0",
         "0.0",
         "0.0",
         "0.0",
         "0.0",
         "2.0",
         "0.0",
         "1895.0",
         "0.0",
         "0.0",
         "0.0",
         "0.0",
         "0.0",
         "0.0",
         "0.0",
         "0.0",
         "0.0",
         "1.0",
         "2006.0",
         "12789.0"
        ],
        [
         "25%",
         "20.0",
         "59.0",
         "7466.5",
         "5.0",
         "5.0",
         "1954.0",
         "1965.0",
         "0.0",
         "0.0",
         "0.0",
         "220.0",
         "793.0",
         "876.0",
         "0.0",
         "0.0",
         "1125.75",
         "0.0",
         "0.0",
         "1.0",
         "0.0",
         "2.0",
         "1.0",
         "5.0",
         "0.0",
         "1960.0",
         "1.0",
         "320.0",
         "0.0",
         "0.0",
         "0.0",
         "0.0",
         "0.0",
         "0.0",
         "0.0",
         "4.0",
         "2007.0",
         "129362.5"
        ],
        [
         "50%",
         "50.0",
         "68.0",
         "9444.5",
         "6.0",
         "5.0",
         "1973.0",
         "1993.0",
         "0.0",
         "368.0",
         "0.0",
         "467.5",
         "988.5",
         "1082.0",
         "0.0",
         "0.0",
         "1442.0",
         "0.0",
         "0.0",
         "2.0",
         "0.0",
         "3.0",
         "1.0",
         "6.0",
         "1.0",
         "1979.0",
         "2.0",
         "479.0",
         "0.0",
         "26.0",
         "0.0",
         "0.0",
         "0.0",
         "0.0",
         "0.0",
         "6.0",
         "2008.0",
         "160000.0"
        ],
        [
         "75%",
         "70.0",
         "80.0",
         "11521.5",
         "7.0",
         "6.0",
         "2001.0",
         "2004.0",
         "164.0",
         "732.0",
         "0.0",
         "804.5",
         "1300.0",
         "1383.0",
         "704.0",
         "0.0",
         "1740.5",
         "1.0",
         "0.0",
         "2.0",
         "1.0",
         "3.0",
         "1.0",
         "7.0",
         "1.0",
         "2002.0",
         "2.0",
         "576.0",
         "168.0",
         "70.0",
         "0.0",
         "0.0",
         "0.0",
         "0.0",
         "0.0",
         "8.0",
         "2009.0",
         "213310.0"
        ],
        [
         "max",
         "190.0",
         "313.0",
         "215245.0",
         "10.0",
         "9.0",
         "2010.0",
         "2010.0",
         "1600.0",
         "2288.0",
         "1526.0",
         "2336.0",
         "3206.0",
         "3820.0",
         "1862.0",
         "1064.0",
         "3820.0",
         "3.0",
         "2.0",
         "4.0",
         "2.0",
         "8.0",
         "3.0",
         "14.0",
         "4.0",
         "2207.0",
         "5.0",
         "1488.0",
         "1424.0",
         "742.0",
         "1012.0",
         "508.0",
         "576.0",
         "800.0",
         "15500.0",
         "12.0",
         "2010.0",
         "625000.0"
        ]
       ],
       "shape": {
        "columns": 37,
        "rows": 8
       }
      },
      "text/html": [
       "<div>\n",
       "<style scoped>\n",
       "    .dataframe tbody tr th:only-of-type {\n",
       "        vertical-align: middle;\n",
       "    }\n",
       "\n",
       "    .dataframe tbody tr th {\n",
       "        vertical-align: top;\n",
       "    }\n",
       "\n",
       "    .dataframe thead th {\n",
       "        text-align: right;\n",
       "    }\n",
       "</style>\n",
       "<table border=\"1\" class=\"dataframe\">\n",
       "  <thead>\n",
       "    <tr style=\"text-align: right;\">\n",
       "      <th></th>\n",
       "      <th>MSSubClass</th>\n",
       "      <th>LotFrontage</th>\n",
       "      <th>LotArea</th>\n",
       "      <th>OverallQual</th>\n",
       "      <th>OverallCond</th>\n",
       "      <th>YearBuilt</th>\n",
       "      <th>YearRemodAdd</th>\n",
       "      <th>MasVnrArea</th>\n",
       "      <th>BsmtFinSF1</th>\n",
       "      <th>BsmtFinSF2</th>\n",
       "      <th>...</th>\n",
       "      <th>WoodDeckSF</th>\n",
       "      <th>OpenPorchSF</th>\n",
       "      <th>EnclosedPorch</th>\n",
       "      <th>3SsnPorch</th>\n",
       "      <th>ScreenPorch</th>\n",
       "      <th>PoolArea</th>\n",
       "      <th>MiscVal</th>\n",
       "      <th>MoSold</th>\n",
       "      <th>YrSold</th>\n",
       "      <th>SalePrice</th>\n",
       "    </tr>\n",
       "  </thead>\n",
       "  <tbody>\n",
       "    <tr>\n",
       "      <th>count</th>\n",
       "      <td>2908.000000</td>\n",
       "      <td>2422.000000</td>\n",
       "      <td>2908.000000</td>\n",
       "      <td>2908.000000</td>\n",
       "      <td>2908.000000</td>\n",
       "      <td>2908.000000</td>\n",
       "      <td>2908.000000</td>\n",
       "      <td>2885.000000</td>\n",
       "      <td>2908.000000</td>\n",
       "      <td>2908.000000</td>\n",
       "      <td>...</td>\n",
       "      <td>2908.000000</td>\n",
       "      <td>2908.000000</td>\n",
       "      <td>2908.000000</td>\n",
       "      <td>2908.000000</td>\n",
       "      <td>2908.000000</td>\n",
       "      <td>2908.000000</td>\n",
       "      <td>2908.000000</td>\n",
       "      <td>2908.000000</td>\n",
       "      <td>2908.000000</td>\n",
       "      <td>2908.000000</td>\n",
       "    </tr>\n",
       "    <tr>\n",
       "      <th>mean</th>\n",
       "      <td>57.195667</td>\n",
       "      <td>69.083815</td>\n",
       "      <td>10120.229711</td>\n",
       "      <td>6.083906</td>\n",
       "      <td>5.566713</td>\n",
       "      <td>1971.296080</td>\n",
       "      <td>1984.254470</td>\n",
       "      <td>100.985442</td>\n",
       "      <td>436.658528</td>\n",
       "      <td>49.752751</td>\n",
       "      <td>...</td>\n",
       "      <td>93.349381</td>\n",
       "      <td>47.099037</td>\n",
       "      <td>23.054677</td>\n",
       "      <td>2.612105</td>\n",
       "      <td>16.019945</td>\n",
       "      <td>1.776479</td>\n",
       "      <td>45.172283</td>\n",
       "      <td>6.216988</td>\n",
       "      <td>2007.794360</td>\n",
       "      <td>180272.213549</td>\n",
       "    </tr>\n",
       "    <tr>\n",
       "      <th>std</th>\n",
       "      <td>42.569095</td>\n",
       "      <td>22.691072</td>\n",
       "      <td>7794.469991</td>\n",
       "      <td>1.396532</td>\n",
       "      <td>1.111292</td>\n",
       "      <td>30.272561</td>\n",
       "      <td>20.884877</td>\n",
       "      <td>176.053730</td>\n",
       "      <td>436.817163</td>\n",
       "      <td>169.471358</td>\n",
       "      <td>...</td>\n",
       "      <td>126.262027</td>\n",
       "      <td>66.642347</td>\n",
       "      <td>64.200383</td>\n",
       "      <td>25.235270</td>\n",
       "      <td>56.147022</td>\n",
       "      <td>32.686883</td>\n",
       "      <td>473.604266</td>\n",
       "      <td>2.710684</td>\n",
       "      <td>1.316852</td>\n",
       "      <td>78139.090808</td>\n",
       "    </tr>\n",
       "    <tr>\n",
       "      <th>min</th>\n",
       "      <td>20.000000</td>\n",
       "      <td>21.000000</td>\n",
       "      <td>1300.000000</td>\n",
       "      <td>1.000000</td>\n",
       "      <td>1.000000</td>\n",
       "      <td>1872.000000</td>\n",
       "      <td>1950.000000</td>\n",
       "      <td>0.000000</td>\n",
       "      <td>0.000000</td>\n",
       "      <td>0.000000</td>\n",
       "      <td>...</td>\n",
       "      <td>0.000000</td>\n",
       "      <td>0.000000</td>\n",
       "      <td>0.000000</td>\n",
       "      <td>0.000000</td>\n",
       "      <td>0.000000</td>\n",
       "      <td>0.000000</td>\n",
       "      <td>0.000000</td>\n",
       "      <td>1.000000</td>\n",
       "      <td>2006.000000</td>\n",
       "      <td>12789.000000</td>\n",
       "    </tr>\n",
       "    <tr>\n",
       "      <th>25%</th>\n",
       "      <td>20.000000</td>\n",
       "      <td>59.000000</td>\n",
       "      <td>7466.500000</td>\n",
       "      <td>5.000000</td>\n",
       "      <td>5.000000</td>\n",
       "      <td>1954.000000</td>\n",
       "      <td>1965.000000</td>\n",
       "      <td>0.000000</td>\n",
       "      <td>0.000000</td>\n",
       "      <td>0.000000</td>\n",
       "      <td>...</td>\n",
       "      <td>0.000000</td>\n",
       "      <td>0.000000</td>\n",
       "      <td>0.000000</td>\n",
       "      <td>0.000000</td>\n",
       "      <td>0.000000</td>\n",
       "      <td>0.000000</td>\n",
       "      <td>0.000000</td>\n",
       "      <td>4.000000</td>\n",
       "      <td>2007.000000</td>\n",
       "      <td>129362.500000</td>\n",
       "    </tr>\n",
       "    <tr>\n",
       "      <th>50%</th>\n",
       "      <td>50.000000</td>\n",
       "      <td>68.000000</td>\n",
       "      <td>9444.500000</td>\n",
       "      <td>6.000000</td>\n",
       "      <td>5.000000</td>\n",
       "      <td>1973.000000</td>\n",
       "      <td>1993.000000</td>\n",
       "      <td>0.000000</td>\n",
       "      <td>368.000000</td>\n",
       "      <td>0.000000</td>\n",
       "      <td>...</td>\n",
       "      <td>0.000000</td>\n",
       "      <td>26.000000</td>\n",
       "      <td>0.000000</td>\n",
       "      <td>0.000000</td>\n",
       "      <td>0.000000</td>\n",
       "      <td>0.000000</td>\n",
       "      <td>0.000000</td>\n",
       "      <td>6.000000</td>\n",
       "      <td>2008.000000</td>\n",
       "      <td>160000.000000</td>\n",
       "    </tr>\n",
       "    <tr>\n",
       "      <th>75%</th>\n",
       "      <td>70.000000</td>\n",
       "      <td>80.000000</td>\n",
       "      <td>11521.500000</td>\n",
       "      <td>7.000000</td>\n",
       "      <td>6.000000</td>\n",
       "      <td>2001.000000</td>\n",
       "      <td>2004.000000</td>\n",
       "      <td>164.000000</td>\n",
       "      <td>732.000000</td>\n",
       "      <td>0.000000</td>\n",
       "      <td>...</td>\n",
       "      <td>168.000000</td>\n",
       "      <td>70.000000</td>\n",
       "      <td>0.000000</td>\n",
       "      <td>0.000000</td>\n",
       "      <td>0.000000</td>\n",
       "      <td>0.000000</td>\n",
       "      <td>0.000000</td>\n",
       "      <td>8.000000</td>\n",
       "      <td>2009.000000</td>\n",
       "      <td>213310.000000</td>\n",
       "    </tr>\n",
       "    <tr>\n",
       "      <th>max</th>\n",
       "      <td>190.000000</td>\n",
       "      <td>313.000000</td>\n",
       "      <td>215245.000000</td>\n",
       "      <td>10.000000</td>\n",
       "      <td>9.000000</td>\n",
       "      <td>2010.000000</td>\n",
       "      <td>2010.000000</td>\n",
       "      <td>1600.000000</td>\n",
       "      <td>2288.000000</td>\n",
       "      <td>1526.000000</td>\n",
       "      <td>...</td>\n",
       "      <td>1424.000000</td>\n",
       "      <td>742.000000</td>\n",
       "      <td>1012.000000</td>\n",
       "      <td>508.000000</td>\n",
       "      <td>576.000000</td>\n",
       "      <td>800.000000</td>\n",
       "      <td>15500.000000</td>\n",
       "      <td>12.000000</td>\n",
       "      <td>2010.000000</td>\n",
       "      <td>625000.000000</td>\n",
       "    </tr>\n",
       "  </tbody>\n",
       "</table>\n",
       "<p>8 rows × 37 columns</p>\n",
       "</div>"
      ],
      "text/plain": [
       "        MSSubClass  LotFrontage        LotArea  OverallQual  OverallCond  \\\n",
       "count  2908.000000  2422.000000    2908.000000  2908.000000  2908.000000   \n",
       "mean     57.195667    69.083815   10120.229711     6.083906     5.566713   \n",
       "std      42.569095    22.691072    7794.469991     1.396532     1.111292   \n",
       "min      20.000000    21.000000    1300.000000     1.000000     1.000000   \n",
       "25%      20.000000    59.000000    7466.500000     5.000000     5.000000   \n",
       "50%      50.000000    68.000000    9444.500000     6.000000     5.000000   \n",
       "75%      70.000000    80.000000   11521.500000     7.000000     6.000000   \n",
       "max     190.000000   313.000000  215245.000000    10.000000     9.000000   \n",
       "\n",
       "         YearBuilt  YearRemodAdd   MasVnrArea   BsmtFinSF1   BsmtFinSF2  ...  \\\n",
       "count  2908.000000   2908.000000  2885.000000  2908.000000  2908.000000  ...   \n",
       "mean   1971.296080   1984.254470   100.985442   436.658528    49.752751  ...   \n",
       "std      30.272561     20.884877   176.053730   436.817163   169.471358  ...   \n",
       "min    1872.000000   1950.000000     0.000000     0.000000     0.000000  ...   \n",
       "25%    1954.000000   1965.000000     0.000000     0.000000     0.000000  ...   \n",
       "50%    1973.000000   1993.000000     0.000000   368.000000     0.000000  ...   \n",
       "75%    2001.000000   2004.000000   164.000000   732.000000     0.000000  ...   \n",
       "max    2010.000000   2010.000000  1600.000000  2288.000000  1526.000000  ...   \n",
       "\n",
       "        WoodDeckSF  OpenPorchSF  EnclosedPorch    3SsnPorch  ScreenPorch  \\\n",
       "count  2908.000000  2908.000000    2908.000000  2908.000000  2908.000000   \n",
       "mean     93.349381    47.099037      23.054677     2.612105    16.019945   \n",
       "std     126.262027    66.642347      64.200383    25.235270    56.147022   \n",
       "min       0.000000     0.000000       0.000000     0.000000     0.000000   \n",
       "25%       0.000000     0.000000       0.000000     0.000000     0.000000   \n",
       "50%       0.000000    26.000000       0.000000     0.000000     0.000000   \n",
       "75%     168.000000    70.000000       0.000000     0.000000     0.000000   \n",
       "max    1424.000000   742.000000    1012.000000   508.000000   576.000000   \n",
       "\n",
       "          PoolArea       MiscVal       MoSold       YrSold      SalePrice  \n",
       "count  2908.000000   2908.000000  2908.000000  2908.000000    2908.000000  \n",
       "mean      1.776479     45.172283     6.216988  2007.794360  180272.213549  \n",
       "std      32.686883    473.604266     2.710684     1.316852   78139.090808  \n",
       "min       0.000000      0.000000     1.000000  2006.000000   12789.000000  \n",
       "25%       0.000000      0.000000     4.000000  2007.000000  129362.500000  \n",
       "50%       0.000000      0.000000     6.000000  2008.000000  160000.000000  \n",
       "75%       0.000000      0.000000     8.000000  2009.000000  213310.000000  \n",
       "max     800.000000  15500.000000    12.000000  2010.000000  625000.000000  \n",
       "\n",
       "[8 rows x 37 columns]"
      ]
     },
     "execution_count": 61,
     "metadata": {},
     "output_type": "execute_result"
    }
   ],
   "source": [
    "# Know more about the variables\n",
    "data.describe()"
   ]
  },
  {
   "cell_type": "code",
   "execution_count": 62,
   "metadata": {},
   "outputs": [],
   "source": [
    "# MSSubClass should be object, as per the Metadata.\n",
    "# Transform MSSubClass into a categorical variable\n",
    "data['MSSubClass'] = data['MSSubClass'].astype('category')"
   ]
  },
  {
   "cell_type": "markdown",
   "metadata": {},
   "source": [
    "##### Finding and Handling Missing Values"
   ]
  },
  {
   "cell_type": "code",
   "execution_count": 63,
   "metadata": {},
   "outputs": [
    {
     "data": {
      "text/plain": [
       "PoolQC         99.793673\n",
       "MiscFeature    96.389271\n",
       "Alley          93.225585\n",
       "Fence          80.467675\n",
       "MasVnrType     60.522696\n",
       "                 ...    \n",
       "Heating         0.000000\n",
       "HeatingQC       0.000000\n",
       "1stFlrSF        0.000000\n",
       "2ndFlrSF        0.000000\n",
       "SalePrice       0.000000\n",
       "Length: 80, dtype: float64"
      ]
     },
     "execution_count": 63,
     "metadata": {},
     "output_type": "execute_result"
    }
   ],
   "source": [
    "# Identify missing values\n",
    "missing_percentage = (data.isnull().sum() / len(data)) * 100\n",
    "missing_percentage.sort_values(ascending=False)"
   ]
  },
  {
   "cell_type": "markdown",
   "metadata": {},
   "source": [
    "<div style=\"background-color: #d1f5d3; border-left: 5px solid #92c892; padding: 10px;\">\n",
    "\n",
    "We will replace \"NA\" strings with appropriate values or categories, ensuring they retain their intended meaning rather than being treated as nulls.\n",
    "\n",
    "The dataset’s metadata indicates that some \"NA\" entries are not truly missing values but placeholders signifying \"None\" or \"Not Applicable.\" For example, \"NA\" in Alley meant no alley access, while FireplaceQu indicated no fireplace. To preserve this meaning, we shall assign appropriate replacements—for instance, setting GarageType \"NA\" to \"None\" and replacing GarageCars and GarageArea with 0 for houses without a garage.\n",
    "\n",
    "To streamline this process, we shall categorize the columns as categorical and numerical:\n",
    "\n",
    "Categorical variables: \n",
    "For attributes like BsmtQual, \"NA\" will be replaced with \"None\". This approach ensures that the absence of a feature is treated as informative rather than unknown.\n",
    "\n",
    "Numerical variables: \n",
    "Missing values were imputed using contextually relevant strategies. \n",
    "(1) A corresponding missing numeric value will be filled in with 0 where relevant categorical value is none. For example, basement-related fields will be set to 0 where appBsmtQual is None. \n",
    "(2) In other cases, different approach will be followed. Missing Values in LotFrontage will be filled with the median LotFrontage for the respective Neighborhood. whereas missing GarageYrBlt values will be replaced with YearBuilt, as garages are typically expected to be constructed along with the main property.\n",
    "\n",
    "This method preserves data integrity while ensuring missing values are handled meaningfully.\n",
    "</div>"
   ]
  },
  {
   "cell_type": "code",
   "execution_count": 64,
   "metadata": {},
   "outputs": [
    {
     "name": "stdout",
     "output_type": "stream",
     "text": [
      "Missing values in dataset:\n",
      "PoolQC          2902\n",
      "MiscFeature     2803\n",
      "Alley           2711\n",
      "Fence           2340\n",
      "MasVnrType      1760\n",
      "FireplaceQu     1416\n",
      "LotFrontage      486\n",
      "GarageYrBlt      158\n",
      "GarageQual       158\n",
      "GarageCond       158\n",
      "GarageFinish     158\n",
      "GarageType       157\n",
      "BsmtExposure      80\n",
      "BsmtCond          80\n",
      "BsmtQual          79\n",
      "BsmtFinType2      78\n",
      "BsmtFinType1      77\n",
      "MasVnrArea        23\n",
      "MSZoning           3\n",
      "Utilities          2\n",
      "Electrical         1\n",
      "KitchenQual        1\n",
      "BsmtHalfBath       1\n",
      "BsmtFullBath       1\n",
      "Exterior2nd        1\n",
      "Exterior1st        1\n",
      "SaleType           1\n",
      "dtype: int64\n",
      "Categorical Missing Values: Index(['MSZoning', 'Alley', 'Utilities', 'Exterior1st', 'Exterior2nd',\n",
      "       'MasVnrType', 'BsmtQual', 'BsmtCond', 'BsmtExposure', 'BsmtFinType1',\n",
      "       'BsmtFinType2', 'Electrical', 'KitchenQual', 'FireplaceQu',\n",
      "       'GarageType', 'GarageFinish', 'GarageQual', 'GarageCond', 'PoolQC',\n",
      "       'Fence', 'MiscFeature', 'SaleType'],\n",
      "      dtype='object')\n",
      "Numeric Missing Values: Index(['LotFrontage', 'MasVnrArea', 'BsmtFullBath', 'BsmtHalfBath',\n",
      "       'GarageYrBlt'],\n",
      "      dtype='object')\n"
     ]
    }
   ],
   "source": [
    "# Understanding missing values\n",
    "missing_values = data.isnull().sum()\n",
    "missing_values = missing_values[missing_values > 0]\n",
    "print(\"Missing values in dataset:\")\n",
    "print(missing_values.sort_values(ascending=False))\n",
    "\n",
    "# Separating categorical and numerical columns with missing values\n",
    "categorical_missing = data[missing_values.index].select_dtypes(include=['object']).columns\n",
    "numerical_missing = data[missing_values.index].select_dtypes(exclude=['object']).columns\n",
    "print(f\"Categorical Missing Values: {categorical_missing}\")\n",
    "print(f\"Numeric Missing Values: {numerical_missing}\")"
   ]
  },
  {
   "cell_type": "code",
   "execution_count": 65,
   "metadata": {},
   "outputs": [],
   "source": [
    "# Handling Missing Values based on PDF Metadata\n",
    "# 'NA' means 'None' for some categorical features, so we replace them with 'None' \n",
    "categorical_na_features = ['PoolQC', 'MiscFeature','Alley','Fence', 'MasVnrType', 'BsmtQual', 'BsmtCond', 'BsmtExposure', 'BsmtFinType1', 'BsmtFinType2', \n",
    "                           'FireplaceQu', 'GarageType', 'GarageFinish', 'GarageQual', 'GarageCond'] \n",
    "numeric_na_features = ['LotFrontage', 'MasVnrArea', 'BsmtFullBath', 'BsmtHalfBath', 'GarageYrBlt']\n",
    "\n",
    "for feature in categorical_na_features:\n",
    "    data[feature].fillna('None', inplace=True)\n",
    "\n",
    "# LotFrontage is related to neighborhood, so impute based on median LotFrontage per Neighborhood\n",
    "data['LotFrontage'] = data.groupby('Neighborhood')['LotFrontage'].transform(lambda x: x.fillna(x.median()))\n",
    "\n",
    "# Filling NA values in GarageYrBlt with YearBuilt\n",
    "data['GarageYrBlt'] = data['GarageYrBlt'].fillna(data['YearBuilt'])"
   ]
  },
  {
   "cell_type": "markdown",
   "metadata": {},
   "source": [
    "##### Data cleaning on the basis of corresponding variable value"
   ]
  },
  {
   "cell_type": "code",
   "execution_count": 66,
   "metadata": {},
   "outputs": [
    {
     "data": {
      "application/vnd.microsoft.datawrangler.viewer.v0+json": {
       "columns": [
        {
         "name": "index",
         "rawType": "int64",
         "type": "integer"
        },
        {
         "name": "MasVnrArea",
         "rawType": "float64",
         "type": "float"
        },
        {
         "name": "MasVnrType",
         "rawType": "object",
         "type": "string"
        }
       ],
       "conversionMethod": "pd.DataFrame",
       "ref": "d91c7246-2398-4f7c-946a-8e32144aa548",
       "rows": [
        [
         "234",
         null,
         "None"
        ],
        [
         "528",
         null,
         "None"
        ],
        [
         "649",
         null,
         "None"
        ],
        [
         "934",
         null,
         "None"
        ],
        [
         "971",
         null,
         "None"
        ],
        [
         "975",
         null,
         "None"
        ],
        [
         "1240",
         null,
         "None"
        ],
        [
         "1275",
         null,
         "None"
        ],
        [
         "1687",
         null,
         "None"
        ],
        [
         "1702",
         null,
         "None"
        ],
        [
         "1878",
         null,
         "None"
        ],
        [
         "1987",
         null,
         "None"
        ],
        [
         "1999",
         null,
         "None"
        ],
        [
         "2036",
         null,
         "None"
        ],
        [
         "2304",
         null,
         "None"
        ],
        [
         "2318",
         null,
         "None"
        ],
        [
         "2333",
         null,
         "None"
        ],
        [
         "2342",
         null,
         "None"
        ],
        [
         "2361",
         null,
         "None"
        ],
        [
         "2581",
         null,
         "None"
        ],
        [
         "2646",
         null,
         "None"
        ],
        [
         "2675",
         null,
         "None"
        ],
        [
         "2851",
         null,
         "None"
        ]
       ],
       "shape": {
        "columns": 2,
        "rows": 23
       }
      },
      "text/html": [
       "<div>\n",
       "<style scoped>\n",
       "    .dataframe tbody tr th:only-of-type {\n",
       "        vertical-align: middle;\n",
       "    }\n",
       "\n",
       "    .dataframe tbody tr th {\n",
       "        vertical-align: top;\n",
       "    }\n",
       "\n",
       "    .dataframe thead th {\n",
       "        text-align: right;\n",
       "    }\n",
       "</style>\n",
       "<table border=\"1\" class=\"dataframe\">\n",
       "  <thead>\n",
       "    <tr style=\"text-align: right;\">\n",
       "      <th></th>\n",
       "      <th>MasVnrArea</th>\n",
       "      <th>MasVnrType</th>\n",
       "    </tr>\n",
       "  </thead>\n",
       "  <tbody>\n",
       "    <tr>\n",
       "      <th>234</th>\n",
       "      <td>NaN</td>\n",
       "      <td>None</td>\n",
       "    </tr>\n",
       "    <tr>\n",
       "      <th>528</th>\n",
       "      <td>NaN</td>\n",
       "      <td>None</td>\n",
       "    </tr>\n",
       "    <tr>\n",
       "      <th>649</th>\n",
       "      <td>NaN</td>\n",
       "      <td>None</td>\n",
       "    </tr>\n",
       "    <tr>\n",
       "      <th>934</th>\n",
       "      <td>NaN</td>\n",
       "      <td>None</td>\n",
       "    </tr>\n",
       "    <tr>\n",
       "      <th>971</th>\n",
       "      <td>NaN</td>\n",
       "      <td>None</td>\n",
       "    </tr>\n",
       "    <tr>\n",
       "      <th>975</th>\n",
       "      <td>NaN</td>\n",
       "      <td>None</td>\n",
       "    </tr>\n",
       "    <tr>\n",
       "      <th>1240</th>\n",
       "      <td>NaN</td>\n",
       "      <td>None</td>\n",
       "    </tr>\n",
       "    <tr>\n",
       "      <th>1275</th>\n",
       "      <td>NaN</td>\n",
       "      <td>None</td>\n",
       "    </tr>\n",
       "    <tr>\n",
       "      <th>1687</th>\n",
       "      <td>NaN</td>\n",
       "      <td>None</td>\n",
       "    </tr>\n",
       "    <tr>\n",
       "      <th>1702</th>\n",
       "      <td>NaN</td>\n",
       "      <td>None</td>\n",
       "    </tr>\n",
       "    <tr>\n",
       "      <th>1878</th>\n",
       "      <td>NaN</td>\n",
       "      <td>None</td>\n",
       "    </tr>\n",
       "    <tr>\n",
       "      <th>1987</th>\n",
       "      <td>NaN</td>\n",
       "      <td>None</td>\n",
       "    </tr>\n",
       "    <tr>\n",
       "      <th>1999</th>\n",
       "      <td>NaN</td>\n",
       "      <td>None</td>\n",
       "    </tr>\n",
       "    <tr>\n",
       "      <th>2036</th>\n",
       "      <td>NaN</td>\n",
       "      <td>None</td>\n",
       "    </tr>\n",
       "    <tr>\n",
       "      <th>2304</th>\n",
       "      <td>NaN</td>\n",
       "      <td>None</td>\n",
       "    </tr>\n",
       "    <tr>\n",
       "      <th>2318</th>\n",
       "      <td>NaN</td>\n",
       "      <td>None</td>\n",
       "    </tr>\n",
       "    <tr>\n",
       "      <th>2333</th>\n",
       "      <td>NaN</td>\n",
       "      <td>None</td>\n",
       "    </tr>\n",
       "    <tr>\n",
       "      <th>2342</th>\n",
       "      <td>NaN</td>\n",
       "      <td>None</td>\n",
       "    </tr>\n",
       "    <tr>\n",
       "      <th>2361</th>\n",
       "      <td>NaN</td>\n",
       "      <td>None</td>\n",
       "    </tr>\n",
       "    <tr>\n",
       "      <th>2581</th>\n",
       "      <td>NaN</td>\n",
       "      <td>None</td>\n",
       "    </tr>\n",
       "    <tr>\n",
       "      <th>2646</th>\n",
       "      <td>NaN</td>\n",
       "      <td>None</td>\n",
       "    </tr>\n",
       "    <tr>\n",
       "      <th>2675</th>\n",
       "      <td>NaN</td>\n",
       "      <td>None</td>\n",
       "    </tr>\n",
       "    <tr>\n",
       "      <th>2851</th>\n",
       "      <td>NaN</td>\n",
       "      <td>None</td>\n",
       "    </tr>\n",
       "  </tbody>\n",
       "</table>\n",
       "</div>"
      ],
      "text/plain": [
       "      MasVnrArea MasVnrType\n",
       "234          NaN       None\n",
       "528          NaN       None\n",
       "649          NaN       None\n",
       "934          NaN       None\n",
       "971          NaN       None\n",
       "975          NaN       None\n",
       "1240         NaN       None\n",
       "1275         NaN       None\n",
       "1687         NaN       None\n",
       "1702         NaN       None\n",
       "1878         NaN       None\n",
       "1987         NaN       None\n",
       "1999         NaN       None\n",
       "2036         NaN       None\n",
       "2304         NaN       None\n",
       "2318         NaN       None\n",
       "2333         NaN       None\n",
       "2342         NaN       None\n",
       "2361         NaN       None\n",
       "2581         NaN       None\n",
       "2646         NaN       None\n",
       "2675         NaN       None\n",
       "2851         NaN       None"
      ]
     },
     "execution_count": 66,
     "metadata": {},
     "output_type": "execute_result"
    }
   ],
   "source": [
    "# Checking corresponding relevant values\n",
    "data[data['MasVnrArea'].isna()][['MasVnrArea', 'MasVnrType']]"
   ]
  },
  {
   "cell_type": "code",
   "execution_count": 67,
   "metadata": {},
   "outputs": [],
   "source": [
    "# Imputing missing BSmtFullBath with 0\n",
    "data['MasVnrArea'].fillna(0, inplace=True)  # As MasVnrType is None, the missing MasVnrArea is to be imputed with 0."
   ]
  },
  {
   "cell_type": "code",
   "execution_count": 68,
   "metadata": {},
   "outputs": [
    {
     "data": {
      "application/vnd.microsoft.datawrangler.viewer.v0+json": {
       "columns": [
        {
         "name": "index",
         "rawType": "int64",
         "type": "integer"
        },
        {
         "name": "BsmtFullBath",
         "rawType": "float64",
         "type": "float"
        },
        {
         "name": "BsmtCond",
         "rawType": "object",
         "type": "string"
        }
       ],
       "conversionMethod": "pd.DataFrame",
       "ref": "df34cbd3-d1f0-4acf-9175-d249ab25c220",
       "rows": [
        [
         "2182",
         null,
         "None"
        ]
       ],
       "shape": {
        "columns": 2,
        "rows": 1
       }
      },
      "text/html": [
       "<div>\n",
       "<style scoped>\n",
       "    .dataframe tbody tr th:only-of-type {\n",
       "        vertical-align: middle;\n",
       "    }\n",
       "\n",
       "    .dataframe tbody tr th {\n",
       "        vertical-align: top;\n",
       "    }\n",
       "\n",
       "    .dataframe thead th {\n",
       "        text-align: right;\n",
       "    }\n",
       "</style>\n",
       "<table border=\"1\" class=\"dataframe\">\n",
       "  <thead>\n",
       "    <tr style=\"text-align: right;\">\n",
       "      <th></th>\n",
       "      <th>BsmtFullBath</th>\n",
       "      <th>BsmtCond</th>\n",
       "    </tr>\n",
       "  </thead>\n",
       "  <tbody>\n",
       "    <tr>\n",
       "      <th>2182</th>\n",
       "      <td>NaN</td>\n",
       "      <td>None</td>\n",
       "    </tr>\n",
       "  </tbody>\n",
       "</table>\n",
       "</div>"
      ],
      "text/plain": [
       "      BsmtFullBath BsmtCond\n",
       "2182           NaN     None"
      ]
     },
     "execution_count": 68,
     "metadata": {},
     "output_type": "execute_result"
    }
   ],
   "source": [
    "# Checking corresponding relevant values\n",
    "data.loc[data['BsmtFullBath'].isnull(), ['BsmtFullBath', 'BsmtCond']]"
   ]
  },
  {
   "cell_type": "code",
   "execution_count": 69,
   "metadata": {},
   "outputs": [],
   "source": [
    "# Imputing missing BSmtFullBath with 0\n",
    "data['BsmtFullBath'] = data['BsmtFullBath'].fillna(0) # As BsmtCond = None"
   ]
  },
  {
   "cell_type": "code",
   "execution_count": 70,
   "metadata": {},
   "outputs": [
    {
     "data": {
      "application/vnd.microsoft.datawrangler.viewer.v0+json": {
       "columns": [
        {
         "name": "index",
         "rawType": "int64",
         "type": "integer"
        },
        {
         "name": "BsmtHalfBath",
         "rawType": "float64",
         "type": "float"
        },
        {
         "name": "BsmtCond",
         "rawType": "object",
         "type": "string"
        }
       ],
       "conversionMethod": "pd.DataFrame",
       "ref": "43a83422-a8fa-43b0-b945-27daa2fda6e7",
       "rows": [
        [
         "2182",
         null,
         "None"
        ]
       ],
       "shape": {
        "columns": 2,
        "rows": 1
       }
      },
      "text/html": [
       "<div>\n",
       "<style scoped>\n",
       "    .dataframe tbody tr th:only-of-type {\n",
       "        vertical-align: middle;\n",
       "    }\n",
       "\n",
       "    .dataframe tbody tr th {\n",
       "        vertical-align: top;\n",
       "    }\n",
       "\n",
       "    .dataframe thead th {\n",
       "        text-align: right;\n",
       "    }\n",
       "</style>\n",
       "<table border=\"1\" class=\"dataframe\">\n",
       "  <thead>\n",
       "    <tr style=\"text-align: right;\">\n",
       "      <th></th>\n",
       "      <th>BsmtHalfBath</th>\n",
       "      <th>BsmtCond</th>\n",
       "    </tr>\n",
       "  </thead>\n",
       "  <tbody>\n",
       "    <tr>\n",
       "      <th>2182</th>\n",
       "      <td>NaN</td>\n",
       "      <td>None</td>\n",
       "    </tr>\n",
       "  </tbody>\n",
       "</table>\n",
       "</div>"
      ],
      "text/plain": [
       "      BsmtHalfBath BsmtCond\n",
       "2182           NaN     None"
      ]
     },
     "execution_count": 70,
     "metadata": {},
     "output_type": "execute_result"
    }
   ],
   "source": [
    "# Checking corresponding relevant values\n",
    "data.loc[data['BsmtHalfBath'].isnull(), ['BsmtHalfBath', 'BsmtCond']]"
   ]
  },
  {
   "cell_type": "code",
   "execution_count": 71,
   "metadata": {},
   "outputs": [],
   "source": [
    "# Imputing missing BSmtHalfBath with 0\n",
    "data['BsmtHalfBath'] = data['BsmtHalfBath'].fillna(0) # As BsmtCond = None"
   ]
  },
  {
   "cell_type": "code",
   "execution_count": 72,
   "metadata": {},
   "outputs": [
    {
     "data": {
      "text/plain": [
       "MSZoning        3\n",
       "Utilities       2\n",
       "Electrical      1\n",
       "KitchenQual     1\n",
       "Exterior1st     1\n",
       "Exterior2nd     1\n",
       "SaleType        1\n",
       "BsmtFullBath    0\n",
       "dtype: int64"
      ]
     },
     "execution_count": 72,
     "metadata": {},
     "output_type": "execute_result"
    }
   ],
   "source": [
    "# Viewing the rest missing values\n",
    "data.isna().sum().sort_values(ascending=False).head(8)"
   ]
  },
  {
   "cell_type": "code",
   "execution_count": 73,
   "metadata": {},
   "outputs": [
    {
     "data": {
      "text/plain": [
       "(2900, 80)"
      ]
     },
     "execution_count": 73,
     "metadata": {},
     "output_type": "execute_result"
    }
   ],
   "source": [
    "# Drop the rows with rest missing values\n",
    "data = data.dropna().reset_index(drop=True)\n",
    "data.shape"
   ]
  },
  {
   "cell_type": "markdown",
   "metadata": {},
   "source": [
    "<div style=\"background-color: #d1f5d3; border-left: 5px solid #92c892; padding: 10px;\">\n",
    "For the rest of the missing values, we could not find a meaningful way to replace them. As such, they were decided to be dropped from the database and in this case we lost 8 observations. However, as the loss is not significant, it will not impact our analysis significantly.\n",
    "</div>"
   ]
  },
  {
   "cell_type": "markdown",
   "metadata": {},
   "source": [
    "##### Handling Outliers"
   ]
  },
  {
   "cell_type": "markdown",
   "metadata": {},
   "source": [
    "<div style=\"background-color: #d1f5d3; border-left: 5px solid #92c892; padding: 10px;\">\n",
    "\n",
    "We tried to remove outliers in different variables. However, it renders significant data loss. Hence, it was decided to continue the study with the existing data.\n",
    "</div>"
   ]
  },
  {
   "cell_type": "markdown",
   "metadata": {},
   "source": [
    "##### Creating New Features and removing some existing features"
   ]
  },
  {
   "cell_type": "code",
   "execution_count": 74,
   "metadata": {},
   "outputs": [],
   "source": [
    "# Create new features to potentially improve model performance:\n",
    "data[\"HomeAge\"] = data[\"YrSold\"] - data[\"YearBuilt\"]\n",
    "data[\"RemodelAge\"] = data[\"YrSold\"] - data[\"YearRemodAdd\"]\n",
    "data[\"TotalBathrooms\"] = (data[\"FullBath\"] + data[\"HalfBath\"] * 0.5 +\n",
    "                          data[\"BsmtFullBath\"] + data[\"BsmtHalfBath\"] * 0.5)\n",
    "data[\"TotalSquareFeet\"] = data[\"TotalBsmtSF\"] + data[\"1stFlrSF\"] + data[\"2ndFlrSF\"]\n",
    "data[\"TotalPorchSF\"] = data[\"OpenPorchSF\"] + data[\"EnclosedPorch\"] + data[\"3SsnPorch\"] + data[\"ScreenPorch\"]\n",
    "data[\"LotFrontageRatio\"] = data[\"LotFrontage\"] / data[\"LotArea\"]\n",
    "\n",
    "# To avoid multicollinearity, drop original features that were used to create new ones.\n",
    "cols_to_remove = [\"YrSold\", \"YearBuilt\", \"YearRemodAdd\", \"FullBath\", \"HalfBath\", \n",
    "                  \"BsmtFullBath\", \"BsmtHalfBath\", \"1stFlrSF\", \"2ndFlrSF\", \n",
    "                  \"TotalBsmtSF\", \"OpenPorchSF\", \"EnclosedPorch\", \"3SsnPorch\", \n",
    "                  \"ScreenPorch\", \"LotFrontage\", \"LotArea\"]\n",
    "data.drop(columns=cols_to_remove, inplace=True)\n",
    "data.reset_index(drop=True, inplace=True)"
   ]
  },
  {
   "cell_type": "markdown",
   "metadata": {},
   "source": [
    "<div style=\"background-color: #d1f5d3; border-left: 5px solid #92c892; padding: 10px;\">\n",
    "<b> Justification for New Features: </b>\n",
    "\n",
    "HomeAge (YrSold - YearBuilt)\n",
    "\n",
    "Instead of using the raw construction year, calculating the age of the home at the time of sale is more relevant for understanding how depreciation or aging affects price. A house built in 1990 and sold in 2020 has a very different context than one built in 1990 and sold in 1995. The absolute YearBuilt value does not capture this nuance, while HomeAge does.\n",
    "\n",
    "RemodelAge (YrSold - YearRemodAdd)\n",
    "\n",
    "Similar to HomeAge, this captures how long it has been since the home was remodeled, which is often a better indicator of condition than the original build year.\n",
    "A house built in 1950 but remodeled in 2015 may have a much higher value than one built in 1950 and never updated.\n",
    "\n",
    "TotalBathrooms (FullBath + 0.5 * HalfBath + BsmtFullBath + 0.5 * BsmtHalfBath)\n",
    "\n",
    "Instead of handling bathrooms separately, this feature consolidates all full and half baths into a single metric, making it easier for the model to understand the total usable bathrooms in a house. Since half baths don’t have the same impact as full baths, they are weighted at 0.5, ensuring that the feature reflects their relative contribution.\n",
    "\n",
    "TotalSquareFeet (TotalBsmtSF + 1stFlrSF + 2ndFlrSF)\n",
    "\n",
    "This combines all finished living spaces into a single feature, which is more meaningful than treating basement, first floor, and second floor square footage separately. Instead of requiring the model to figure out the relationships between different floor areas, we directly provide a single metric of total livable space.\n",
    "\n",
    "TotalPorchSF (OpenPorchSF + EnclosedPorch + 3SsnPorch + ScreenPorch)\n",
    "\n",
    "Rather than keeping separate porch-related features, we consolidate them into a single measure of total porch space, which simplifies interpretation.\n",
    "Whether a porch is enclosed or open might matter in some cases, but overall porch size is likely more directly related to home value.\n",
    "LotFrontageRatio (LotFrontage / LotArea)\n",
    "\n",
    "Instead of using LotFrontage and LotArea separately, this ratio captures how much street frontage exists relative to the total lot size.\n",
    "This provides a better understanding of how a home's position on the lot might impact desirability (e.g., corner lots with high frontage might be more valuable).\n",
    "\n",
    "<b> Justification for Dropping Original Features: </b>\n",
    "\n",
    "After creating these new features, the original variables become redundant or may introduce multicollinearity, which can confuse the model and lead to instability.\n",
    "\n",
    "YrSold, YearBuilt, YearRemodAdd : These are removed because they were used to calculate HomeAge and RemodelAge, which provide a more direct and meaningful measure of age.\n",
    "\n",
    "FullBath, HalfBath, BsmtFullBath, BsmtHalfBath: These individual bathroom counts are dropped because they are already included in TotalBathrooms, which simplifies the model while retaining the same information.\n",
    "\n",
    "1stFlrSF, 2ndFlrSF, TotalBsmtSF: These are removed because we now use TotalSquareFeet, which provides a more consolidated and practical measure of livable space.\n",
    "\n",
    "OpenPorchSF, EnclosedPorch, 3SsnPorch, ScreenPorch: These are removed because they are combined into TotalPorchSF, simplifying the dataset without losing important information.\n",
    "\n",
    "LotFrontage, LotArea: These are removed because they are combined into LotFrontageRatio, which captures the relationship between the two rather than treating them as separate variables.\n",
    "\n",
    "</div>"
   ]
  },
  {
   "cell_type": "markdown",
   "metadata": {},
   "source": [
    "##### <b> Ordinal Encoding of Categorical Features </b>"
   ]
  },
  {
   "cell_type": "code",
   "execution_count": 75,
   "metadata": {},
   "outputs": [],
   "source": [
    "# Define ordinal mappings for variables where the order is meaningful.\n",
    "ordinal_mappings = {\n",
    "    \"BsmtQual\": {\"Ex\": 6, \"Gd\": 5, \"TA\": 4, \"Fa\": 3, \"Po\": 2, \"None\": 1},\n",
    "    \"BsmtCond\": {\"Ex\": 6, \"Gd\": 5, \"TA\": 4, \"Fa\": 3, \"Po\": 2, \"None\": 1},\n",
    "    \"BsmtExposure\": {\"Gd\": 5, \"Av\": 4, \"Mn\": 3, \"No\": 2, \"None\": 1},\n",
    "    \"BsmtFinType1\": {\"GLQ\": 7, \"ALQ\": 6, \"BLQ\": 5, \"Rec\": 4, \"LwQ\": 3, \"Unf\": 2, \"None\": 1},\n",
    "    \"BsmtFinType2\": {\"GLQ\": 7, \"ALQ\": 6, \"BLQ\": 5, \"Rec\": 4, \"LwQ\": 3, \"Unf\": 2, \"None\": 1},\n",
    "    \"Electrical\": {\"SBrkr\": 5, \"FuseA\": 4, \"FuseF\": 3, \"FuseP\": 2, \"Mix\": 1},\n",
    "    \"ExterQual\": {\"Ex\": 6, \"Gd\": 5, \"TA\": 4, \"Fa\": 3, \"Po\": 2},\n",
    "    \"ExterCond\": {\"Ex\": 6, \"Gd\": 5, \"TA\": 4, \"Fa\": 3, \"Po\": 2},\n",
    "    \"FireplaceQu\": {\"Ex\": 6, \"Gd\": 5, \"TA\": 4, \"Fa\": 3, \"Po\": 2, \"None\": 1},\n",
    "    \"Functional\": {\"Typ\": 8, \"Min1\": 7, \"Min2\": 6, \"Mod\": 5, \"Maj1\": 4, \"Maj2\": 3, \"Sev\": 2, \"Sal\": 1},\n",
    "    \"GarageFinish\": {\"Fin\": 4, \"RFn\": 3, \"Unf\": 2, \"None\": 1},\n",
    "    \"GarageQual\": {\"Ex\": 6, \"Gd\": 5, \"TA\": 4, \"Fa\": 3, \"Po\": 2, \"None\": 1},\n",
    "    \"GarageCond\": {\"Ex\": 6, \"Gd\": 5, \"TA\": 4, \"Fa\": 3, \"Po\": 2, \"None\": 1},\n",
    "    \"HeatingQC\": {\"Ex\": 6, \"Gd\": 5, \"TA\": 4, \"Fa\": 3, \"Po\": 2},\n",
    "    \"LotShape\": {\"Reg\": 5, \"IR1\": 4, \"IR2\": 3, \"IR3\": 2},\n",
    "    \"LandSlope\": {\"Gtl\": 4, \"Mod\": 3, \"Sev\": 2},\n",
    "    \"KitchenQual\": {\"Ex\": 6, \"Gd\": 5, \"TA\": 4, \"Fa\": 3, \"Po\": 2},\n",
    "    \"PavedDrive\": {\"Y\": 3, \"P\": 2, \"N\": 1},\n",
    "    \"PoolQC\": {\"Ex\": 5, \"Gd\": 4, \"TA\": 3, \"Fa\": 2, \"None\": 1}\n",
    "}\n",
    "\n",
    "# Function to encode ordinal columns in the DataFrame using the defined mappings\n",
    "def encode_ordinal_columns(df, mappings):\n",
    "    for col, mapping in mappings.items():\n",
    "        if col in df.columns:\n",
    "            df[col] = df[col].map(mapping)\n",
    "    return df\n",
    "\n",
    "# Apply ordinal encoding\n",
    "data_ordered = encode_ordinal_columns(data.copy(), ordinal_mappings)"
   ]
  },
  {
   "cell_type": "markdown",
   "metadata": {},
   "source": [
    "<div style=\"background-color: #d1f5d3; border-left: 5px solid #92c892; padding: 10px;\">\n",
    "The ordinal encoding assigns numerical values to categorical features where order matters, ensuring that the model correctly interprets their ranking rather than treating them as separate categories. This improves predictive accuracy by preserving meaningful relationships, such as higher-quality materials or better conditions being assigned higher scores. By applying this transformation, the dataset becomes more suitable for models that rely on numerical inputs, reducing complexity while retaining the impact of qualitative factors like basement quality, kitchen condition, and garage finish.\n",
    "</div>"
   ]
  },
  {
   "cell_type": "markdown",
   "metadata": {},
   "source": [
    "#####  <b> Handling Multicollinearity <b>"
   ]
  },
  {
   "cell_type": "code",
   "execution_count": 76,
   "metadata": {},
   "outputs": [
    {
     "data": {
      "application/vnd.microsoft.datawrangler.viewer.v0+json": {
       "columns": [
        {
         "name": "index",
         "rawType": "int64",
         "type": "integer"
        },
        {
         "name": "LotShape",
         "rawType": "int64",
         "type": "integer"
        },
        {
         "name": "LandSlope",
         "rawType": "int64",
         "type": "integer"
        },
        {
         "name": "OverallQual",
         "rawType": "int64",
         "type": "integer"
        },
        {
         "name": "OverallCond",
         "rawType": "int64",
         "type": "integer"
        },
        {
         "name": "MasVnrArea",
         "rawType": "float64",
         "type": "float"
        },
        {
         "name": "ExterQual",
         "rawType": "int64",
         "type": "integer"
        },
        {
         "name": "ExterCond",
         "rawType": "int64",
         "type": "integer"
        },
        {
         "name": "BsmtQual",
         "rawType": "int64",
         "type": "integer"
        },
        {
         "name": "BsmtCond",
         "rawType": "int64",
         "type": "integer"
        },
        {
         "name": "BsmtExposure",
         "rawType": "int64",
         "type": "integer"
        },
        {
         "name": "BsmtFinType1",
         "rawType": "int64",
         "type": "integer"
        },
        {
         "name": "BsmtFinSF1",
         "rawType": "int64",
         "type": "integer"
        },
        {
         "name": "BsmtFinType2",
         "rawType": "int64",
         "type": "integer"
        },
        {
         "name": "BsmtFinSF2",
         "rawType": "int64",
         "type": "integer"
        },
        {
         "name": "BsmtUnfSF",
         "rawType": "int64",
         "type": "integer"
        },
        {
         "name": "HeatingQC",
         "rawType": "int64",
         "type": "integer"
        },
        {
         "name": "Electrical",
         "rawType": "int64",
         "type": "integer"
        },
        {
         "name": "LowQualFinSF",
         "rawType": "int64",
         "type": "integer"
        },
        {
         "name": "GrLivArea",
         "rawType": "int64",
         "type": "integer"
        },
        {
         "name": "BedroomAbvGr",
         "rawType": "int64",
         "type": "integer"
        },
        {
         "name": "KitchenAbvGr",
         "rawType": "int64",
         "type": "integer"
        },
        {
         "name": "KitchenQual",
         "rawType": "int64",
         "type": "integer"
        },
        {
         "name": "TotRmsAbvGrd",
         "rawType": "int64",
         "type": "integer"
        },
        {
         "name": "Functional",
         "rawType": "int64",
         "type": "integer"
        },
        {
         "name": "Fireplaces",
         "rawType": "int64",
         "type": "integer"
        },
        {
         "name": "FireplaceQu",
         "rawType": "int64",
         "type": "integer"
        },
        {
         "name": "GarageYrBlt",
         "rawType": "float64",
         "type": "float"
        },
        {
         "name": "GarageFinish",
         "rawType": "int64",
         "type": "integer"
        },
        {
         "name": "GarageCars",
         "rawType": "int64",
         "type": "integer"
        },
        {
         "name": "GarageArea",
         "rawType": "int64",
         "type": "integer"
        },
        {
         "name": "GarageQual",
         "rawType": "int64",
         "type": "integer"
        },
        {
         "name": "GarageCond",
         "rawType": "int64",
         "type": "integer"
        },
        {
         "name": "PavedDrive",
         "rawType": "int64",
         "type": "integer"
        },
        {
         "name": "WoodDeckSF",
         "rawType": "int64",
         "type": "integer"
        },
        {
         "name": "PoolArea",
         "rawType": "int64",
         "type": "integer"
        },
        {
         "name": "PoolQC",
         "rawType": "int64",
         "type": "integer"
        },
        {
         "name": "MiscVal",
         "rawType": "int64",
         "type": "integer"
        },
        {
         "name": "MoSold",
         "rawType": "int64",
         "type": "integer"
        },
        {
         "name": "SalePrice",
         "rawType": "int64",
         "type": "integer"
        },
        {
         "name": "HomeAge",
         "rawType": "int64",
         "type": "integer"
        },
        {
         "name": "RemodelAge",
         "rawType": "int64",
         "type": "integer"
        },
        {
         "name": "TotalBathrooms",
         "rawType": "float64",
         "type": "float"
        },
        {
         "name": "TotalSquareFeet",
         "rawType": "int64",
         "type": "integer"
        },
        {
         "name": "TotalPorchSF",
         "rawType": "int64",
         "type": "integer"
        },
        {
         "name": "LotFrontageRatio",
         "rawType": "float64",
         "type": "float"
        }
       ],
       "conversionMethod": "pd.DataFrame",
       "ref": "729ef16d-13c9-46a9-95d7-0729056383df",
       "rows": [],
       "shape": {
        "columns": 45,
        "rows": 0
       }
      },
      "text/html": [
       "<div>\n",
       "<style scoped>\n",
       "    .dataframe tbody tr th:only-of-type {\n",
       "        vertical-align: middle;\n",
       "    }\n",
       "\n",
       "    .dataframe tbody tr th {\n",
       "        vertical-align: top;\n",
       "    }\n",
       "\n",
       "    .dataframe thead th {\n",
       "        text-align: right;\n",
       "    }\n",
       "</style>\n",
       "<table border=\"1\" class=\"dataframe\">\n",
       "  <thead>\n",
       "    <tr style=\"text-align: right;\">\n",
       "      <th></th>\n",
       "      <th>LotShape</th>\n",
       "      <th>LandSlope</th>\n",
       "      <th>OverallQual</th>\n",
       "      <th>OverallCond</th>\n",
       "      <th>MasVnrArea</th>\n",
       "      <th>ExterQual</th>\n",
       "      <th>ExterCond</th>\n",
       "      <th>BsmtQual</th>\n",
       "      <th>BsmtCond</th>\n",
       "      <th>BsmtExposure</th>\n",
       "      <th>...</th>\n",
       "      <th>PoolQC</th>\n",
       "      <th>MiscVal</th>\n",
       "      <th>MoSold</th>\n",
       "      <th>SalePrice</th>\n",
       "      <th>HomeAge</th>\n",
       "      <th>RemodelAge</th>\n",
       "      <th>TotalBathrooms</th>\n",
       "      <th>TotalSquareFeet</th>\n",
       "      <th>TotalPorchSF</th>\n",
       "      <th>LotFrontageRatio</th>\n",
       "    </tr>\n",
       "  </thead>\n",
       "  <tbody>\n",
       "  </tbody>\n",
       "</table>\n",
       "<p>0 rows × 45 columns</p>\n",
       "</div>"
      ],
      "text/plain": [
       "Empty DataFrame\n",
       "Columns: [LotShape, LandSlope, OverallQual, OverallCond, MasVnrArea, ExterQual, ExterCond, BsmtQual, BsmtCond, BsmtExposure, BsmtFinType1, BsmtFinSF1, BsmtFinType2, BsmtFinSF2, BsmtUnfSF, HeatingQC, Electrical, LowQualFinSF, GrLivArea, BedroomAbvGr, KitchenAbvGr, KitchenQual, TotRmsAbvGrd, Functional, Fireplaces, FireplaceQu, GarageYrBlt, GarageFinish, GarageCars, GarageArea, GarageQual, GarageCond, PavedDrive, WoodDeckSF, PoolArea, PoolQC, MiscVal, MoSold, SalePrice, HomeAge, RemodelAge, TotalBathrooms, TotalSquareFeet, TotalPorchSF, LotFrontageRatio]\n",
       "Index: []\n",
       "\n",
       "[0 rows x 45 columns]"
      ]
     },
     "execution_count": 76,
     "metadata": {},
     "output_type": "execute_result"
    }
   ],
   "source": [
    "# Separate numerical columns for VIF calculation\n",
    "num_cols = data_ordered.select_dtypes(include=['int64', 'float64'])\n",
    "num_cols.isnull().sum().sort_values(ascending=False)\n",
    "num_cols[num_cols[\"PoolQC\"].isna()]"
   ]
  },
  {
   "cell_type": "code",
   "execution_count": 77,
   "metadata": {},
   "outputs": [
    {
     "data": {
      "text/plain": [
       "(2900, 70)"
      ]
     },
     "execution_count": 77,
     "metadata": {},
     "output_type": "execute_result"
    }
   ],
   "source": [
    "data.shape"
   ]
  },
  {
   "cell_type": "code",
   "execution_count": 78,
   "metadata": {},
   "outputs": [
    {
     "name": "stdout",
     "output_type": "stream",
     "text": [
      "High VIF features to drop: ['BsmtFinSF1', 'BsmtFinSF2', 'BsmtUnfSF', 'LowQualFinSF', 'GrLivArea', 'GarageQual', 'GarageCond', 'TotalSquareFeet']\n"
     ]
    }
   ],
   "source": [
    "# Separate numerical columns for VIF calculation\n",
    "num_cols = data_ordered.select_dtypes(include=['int64', 'float64'])\n",
    "# Add constant for VIF calculation\n",
    "X_vif = add_constant(num_cols)\n",
    "\n",
    "# Calculate VIF for each numerical feature\n",
    "vif_data = pd.DataFrame()\n",
    "vif_data['Feature'] = X_vif.columns\n",
    "vif_data['VIF'] = [variance_inflation_factor(X_vif.values, i) for i in range(X_vif.shape[1])]\n",
    "\n",
    "\n",
    "# Identify features with VIF > 10 (excluding the constant)\n",
    "high_vif_features = vif_data[vif_data['VIF'] > 10]['Feature'].tolist()\n",
    "if 'const' in high_vif_features:\n",
    "    high_vif_features.remove('const')\n",
    "print(\"High VIF features to drop:\", high_vif_features)\n",
    "\n",
    "# Drop the high VIF features from the dataset\n",
    "data_ordered.drop(columns=high_vif_features, inplace=True)\n",
    "\n",
    "# Suppress all warnings\n",
    "warnings.filterwarnings(\"ignore\")"
   ]
  },
  {
   "cell_type": "markdown",
   "metadata": {},
   "source": [
    "<div style=\"background-color: #d1f5d3; border-left: 5px solid #92c892; padding: 10px;\">\n",
    "To make the analysis more reliable, we checked for features that provided overlapping or redundant information, which can confuse the model and make predictions unstable. Using a statistical measure, we identified features that were too closely related and removed them to ensure that each remaining feature adds unique value. This helps the model focus on the most important factors without unnecessary complexity, improving accuracy and interpretability. Additionally, we dropped two exterior features that had too many unique values, which could introduce noise rather than useful insights. These steps make the dataset cleaner and ensure the model learns meaningful patterns rather than being misled by excessive or repetitive information.\n",
    "</div>"
   ]
  },
  {
   "cell_type": "markdown",
   "metadata": {},
   "source": [
    "##### <b> Log Transformation to Handle Highly Skewed Numerical Features <b>"
   ]
  },
  {
   "cell_type": "markdown",
   "metadata": {},
   "source": [
    "<div style=\"background-color: #d1f5d3; border-left: 5px solid #92c892; padding: 10px;\">\n",
    "Log transformation helps balance the data by reducing the impact of extreme values, making patterns easier to recognize. When a feature has a strong skew (meaning most values are small but a few are very large), it can mislead the analysis and make predictions less reliable. By applying a log transformation, we bring these extreme values closer to the rest of the data, creating a more even distribution. This helps the model make better decisions by treating all values more fairly, leading to more accurate and stable predictions. Additionally, it makes relationships between features clearer, improving overall insights from the data.\n",
    "</div>"
   ]
  },
  {
   "cell_type": "code",
   "execution_count": 79,
   "metadata": {},
   "outputs": [
    {
     "name": "stdout",
     "output_type": "stream",
     "text": [
      "Variables transformed: ['MasVnrArea', 'ExterCond', 'BsmtExposure', 'BsmtFinType2', 'KitchenAbvGr', 'WoodDeckSF', 'PoolArea', 'PoolQC', 'MiscVal', 'SalePrice', 'TotalPorchSF', 'LotFrontageRatio']\n"
     ]
    }
   ],
   "source": [
    "# Select numerical features\n",
    "num_features = data_ordered.select_dtypes(include=['int64', 'float64'])\n",
    "\n",
    "# Calculate skewness before transformation\n",
    "skewness_before = num_features.skew()\n",
    "\n",
    "# Identify features with high skewness (|skew| > 1)\n",
    "log_transformed_features = [\n",
    "    feature for feature in skewness_before.index \n",
    "    if abs(skewness_before[feature]) > 1\n",
    "]\n",
    "\n",
    "# Track actually transformed variables\n",
    "transformed_features = []\n",
    "\n",
    "# Create a copy of the dataset for transformation\n",
    "df_transformed = data_ordered.copy()\n",
    "\n",
    "# Apply log1p transformation where necessary\n",
    "for feature in log_transformed_features:\n",
    "    if (df_transformed[feature] <= 0).any():\n",
    "        # Shift the data to make it positive if necessary\n",
    "        df_transformed[feature] = np.log1p(df_transformed[feature] - df_transformed[feature].min() + 1)\n",
    "    else:\n",
    "        df_transformed[feature] = np.log1p(df_transformed[feature])\n",
    "    \n",
    "    # Verify if transformation changed skewness\n",
    "    if abs(df_transformed[feature].skew()) < abs(skewness_before[feature]):\n",
    "        transformed_features.append(feature)\n",
    "\n",
    "# Assign transformed dataset back if needed\n",
    "data_ordered = df_transformed\n",
    "\n",
    "# Print the list of transformed features\n",
    "print(\"Variables transformed:\", transformed_features)\n"
   ]
  },
  {
   "cell_type": "markdown",
   "metadata": {},
   "source": [
    "### Step 3: Modelling"
   ]
  },
  {
   "cell_type": "markdown",
   "metadata": {},
   "source": [
    "<div style=\"background-color: #d1f5d3; border-left: 5px solid #92c892; padding: 10px;\">\n",
    "\n",
    "As a business analyst, we selected Linear Regression, Polynomial Regression, Ridge Regression, Lasso Regression, Random Forest, and Stacking Regression because they each offer unique advantages for understanding and predicting housing prices (SalePrice).\n",
    "\n",
    "1️⃣ Linear Regression – A simple model that captures direct relationships between features (e.g., square footage, number of bedrooms) and price. It's easy to interpret but assumes a straight-line relationship.\n",
    "\n",
    "2️⃣ Polynomial Regression (Degree 2) – Allows for non-linear relationships between variables, helping to capture complex price trends. However, it risks overfitting when too many features are included.\n",
    "\n",
    "3️⃣ Ridge & Lasso Regression – These are advanced forms of linear regression that handle multicollinearity (when independent variables are highly correlated) and reduce overfitting by applying regularization (penalty terms). Ridge maintains all variables with small adjustments, while Lasso can remove less important features.\n",
    "\n",
    "4️⃣ Random Forest – A powerful ensemble learning technique that handles non-linearity and feature interactions well. It’s more flexible than linear models but can be harder to interpret.\n",
    "\n",
    "5️⃣ Stacking Regression – A meta-model that combines multiple models to improve prediction accuracy. By leveraging the strengths of different approaches, it typically offers the best generalization across unseen data.\n",
    "\n",
    "We included these models to compare how well they balance accuracy, interpretability, and generalization in predicting house prices. Now, let's determine which model performs best.\n",
    "\n",
    "\n",
    "\n",
    "</div>"
   ]
  },
  {
   "cell_type": "markdown",
   "metadata": {},
   "source": [
    "<div style=\"background-color: #d1f5d3; border-left: 5px solid #92c892; padding: 10px;\">\n",
    "\n",
    "In this process, we will <br>\n",
    "\n",
    "- convert our categorical variables into dummy variables\n",
    "- use hyperparameter tuning\n",
    "- use 5 fold crossvalidation </p>\n",
    "\n",
    "<b>Justification of using Dummy Variables</b>\n",
    "\n",
    "✅ Ensures Categorical Features are Machine-Readable: Converts categories into numerical values without implying any order.\n",
    "\n",
    "✅ Avoids Bias from Arbitrary Label Encoding: Prevents models from mistakenly assuming higher numbers mean better quality.\n",
    "\n",
    "✅ Allows for Better Interpretability: Each category becomes a separate binary column, making feature importance clearer.\n",
    "\n",
    "✅ Prevents Redundancy with Dummy Variable Trap Handling (drop='first'): Ensures that one category is removed to avoid collinearity issues.\n",
    "\n",
    "This approach ensures categorical features enhance model performance without introducing misleading relationships.\n",
    "\n",
    "\n",
    "<b> Justification of Hyperparameter Tuning </b>\n",
    "\n",
    "Hyperparameter tuning optimizes model performance by selecting the best values for parameters like alpha in Ridge and Lasso regression, which control regularization strength to prevent overfitting. Using GridSearchCV with cross-validation, we systematically test multiple values to find the optimal balance between bias and variance, ensuring the model generalizes well to unseen data.\n",
    "\n",
    "<b> Justification of 5 fold crossvalidation </b>\n",
    "\n",
    "1. Ensures more robust and stable hyperparameter selection for Ridge & Lasso.\n",
    "2. Prevents overfitting by evaluating the model on multiple test sets.\n",
    "3. 5-Fold CV is a standard choice that balances computational efficiency and performance reliability.\n",
    "4. We wanted to tune it for the best number, but for the limitation of computing power, we were not able to do that.\n",
    "\n",
    "</div>"
   ]
  },
  {
   "cell_type": "code",
   "execution_count": 80,
   "metadata": {},
   "outputs": [
    {
     "name": "stdout",
     "output_type": "stream",
     "text": [
      "Best Ridge Alpha: 10\n",
      "Best Lasso Alpha: 0.01\n"
     ]
    },
    {
     "data": {
      "image/png": "[encoded data removed]",
      "text/plain": [
       "<Figure size 1200x800 with 1 Axes>"
      ]
     },
     "metadata": {},
     "output_type": "display_data"
    },
    {
     "name": "stdout",
     "output_type": "stream",
     "text": [
      "\n",
      "📌 Model Performance Comparison:\n",
      "\n",
      "                Model      MSE     RMSE  R² Score  Adjusted R²\n",
      "    Linear Regression 0.019934 0.141186  0.881160     0.867166\n",
      "Polynomial Regression 0.152824 0.390927  0.088897    -0.018395\n",
      "     Ridge Regression 0.017545 0.132457  0.895401     0.883084\n",
      "     Lasso Regression 0.023750 0.154110  0.858408     0.841734\n",
      "        Random Forest 0.024157 0.155424  0.855983     0.839024\n",
      "  Stacking Regression 0.017623 0.132753  0.894934     0.882561\n"
     ]
    }
   ],
   "source": [
    "# 📌 Import Required Libraries\n",
    "import numpy as np\n",
    "import pandas as pd\n",
    "import matplotlib.pyplot as plt\n",
    "from sklearn.linear_model import LinearRegression, Ridge, Lasso\n",
    "from sklearn.preprocessing import StandardScaler, OneHotEncoder, PolynomialFeatures\n",
    "from sklearn.ensemble import RandomForestRegressor, StackingRegressor\n",
    "from sklearn.pipeline import make_pipeline\n",
    "from sklearn.compose import ColumnTransformer\n",
    "from sklearn.metrics import mean_squared_error, r2_score\n",
    "from sklearn.model_selection import train_test_split, GridSearchCV\n",
    "\n",
    "# --------------------------------------------------------------------------------------\n",
    "# **1. Data Preprocessing**\n",
    "# --------------------------------------------------------------------------------------\n",
    "\n",
    "# 📌 Separate target variable (SalePrice) from features\n",
    "X = data_ordered.drop(columns=['SalePrice'], axis=1)\n",
    "y = data_ordered['SalePrice']\n",
    "\n",
    "# 📌 Identify numerical and categorical feature names for preprocessing\n",
    "numerical_features = X.select_dtypes(include=['int64', 'float64']).columns\n",
    "categorical_features = X.select_dtypes(include=['object']).columns\n",
    "\n",
    "# 📌 Create a ColumnTransformer for preprocessing:\n",
    "preprocessor = ColumnTransformer(transformers=[\n",
    "    ('num', StandardScaler(), numerical_features),\n",
    "    ('cat', OneHotEncoder(drop='first', handle_unknown='ignore'), categorical_features)\n",
    "])\n",
    "\n",
    "# 📌 Split data into training and testing sets (80% train, 20% test)\n",
    "X_train, X_test, y_train, y_test = train_test_split(X, y, test_size=0.2, random_state=42)\n",
    "\n",
    "# --------------------------------------------------------------------------------------\n",
    "# **2. Hyperparameter Tuning for Ridge & Lasso**\n",
    "# --------------------------------------------------------------------------------------\n",
    "\n",
    "# 📌 Define hyperparameter search space\n",
    "ridge_param_grid = {'ridge__alpha': [0.01, 0.1, 1, 10, 100]}\n",
    "lasso_param_grid = {'lasso__alpha': [0.01, 0.1, 1, 10, 100]}\n",
    "\n",
    "# 📌 Define Ridge & Lasso Pipelines for GridSearch\n",
    "ridge_pipeline_tuning = make_pipeline(preprocessor, Ridge())\n",
    "lasso_pipeline_tuning = make_pipeline(preprocessor, Lasso())\n",
    "\n",
    "# 📌 Perform Grid Search\n",
    "ridge_grid = GridSearchCV(ridge_pipeline_tuning, ridge_param_grid, cv=5, scoring='neg_mean_squared_error')\n",
    "lasso_grid = GridSearchCV(lasso_pipeline_tuning, lasso_param_grid, cv=5, scoring='neg_mean_squared_error')\n",
    "\n",
    "ridge_grid.fit(X_train, y_train)\n",
    "lasso_grid.fit(X_train, y_train)\n",
    "\n",
    "# 📌 Retrieve the best hyperparameter values\n",
    "best_ridge_alpha = ridge_grid.best_params_['ridge__alpha']\n",
    "best_lasso_alpha = lasso_grid.best_params_['lasso__alpha']\n",
    "\n",
    "print(f\"Best Ridge Alpha: {best_ridge_alpha}\")\n",
    "print(f\"Best Lasso Alpha: {best_lasso_alpha}\")\n",
    "\n",
    "# --------------------------------------------------------------------------------------\n",
    "# **3. Train Models**\n",
    "# --------------------------------------------------------------------------------------\n",
    "\n",
    "# 📌 Train Polynomial Regression Model (Degree 2)\n",
    "poly_pipeline = make_pipeline(preprocessor, PolynomialFeatures(degree=2, include_bias=False), LinearRegression())\n",
    "poly_pipeline.fit(X_train, y_train)\n",
    "\n",
    "# 📌 Train Simple Linear Regression\n",
    "linear_pipeline = make_pipeline(preprocessor, LinearRegression())\n",
    "linear_pipeline.fit(X_train, y_train)\n",
    "\n",
    "# 📌 Train Ridge & Lasso Regression using best hyperparameters\n",
    "ridge_pipeline = make_pipeline(preprocessor, Ridge(alpha=best_ridge_alpha))\n",
    "ridge_pipeline.fit(X_train, y_train)\n",
    "\n",
    "lasso_pipeline = make_pipeline(preprocessor, Lasso(alpha=best_lasso_alpha))\n",
    "lasso_pipeline.fit(X_train, y_train)\n",
    "\n",
    "# 📌 Train Random Forest Model\n",
    "rf_pipeline = make_pipeline(preprocessor, RandomForestRegressor(n_estimators=100, random_state=42))\n",
    "rf_pipeline.fit(X_train, y_train)\n",
    "\n",
    "# 📌 Train Stacking Model with multiple regressors\n",
    "estimators = [\n",
    "    ('linear', linear_pipeline),\n",
    "    ('ridge', ridge_pipeline),\n",
    "    ('lasso', lasso_pipeline),\n",
    "    ('rf', rf_pipeline)\n",
    "]\n",
    "stacking_model = StackingRegressor(estimators=estimators, final_estimator=LinearRegression())\n",
    "stacking_model.fit(X_train, y_train)\n",
    "\n",
    "# --------------------------------------------------------------------------------------\n",
    "# **4. Make Predictions on Test Data**\n",
    "# --------------------------------------------------------------------------------------\n",
    "\n",
    "y_pred_linear = linear_pipeline.predict(X_test)\n",
    "y_pred_poly = poly_pipeline.predict(X_test)  \n",
    "y_pred_ridge = ridge_pipeline.predict(X_test)\n",
    "y_pred_lasso = lasso_pipeline.predict(X_test)\n",
    "y_pred_rf = rf_pipeline.predict(X_test)\n",
    "y_pred_stack = stacking_model.predict(X_test)\n",
    "\n",
    "# --------------------------------------------------------------------------------------\n",
    "# **5. Calculate Performance Metrics**\n",
    "# --------------------------------------------------------------------------------------\n",
    "\n",
    "# 📌 Compute MSE\n",
    "mse_values = {\n",
    "    \"Linear Regression\": mean_squared_error(y_test, y_pred_linear),\n",
    "    \"Polynomial Regression\": mean_squared_error(y_test, y_pred_poly),\n",
    "    \"Ridge Regression\": mean_squared_error(y_test, y_pred_ridge),\n",
    "    \"Lasso Regression\": mean_squared_error(y_test, y_pred_lasso),\n",
    "    \"Random Forest\": mean_squared_error(y_test, y_pred_rf),\n",
    "    \"Stacking Regression\": mean_squared_error(y_test, y_pred_stack),\n",
    "}\n",
    "\n",
    "# 📌 Compute RMSE\n",
    "rmse_values = {model: np.sqrt(mse) for model, mse in mse_values.items()}\n",
    "\n",
    "# 📌 Compute R² and Adjusted R²\n",
    "r2_values = {\n",
    "    \"Linear Regression\": r2_score(y_test, y_pred_linear),\n",
    "    \"Polynomial Regression\": r2_score(y_test, y_pred_poly),\n",
    "    \"Ridge Regression\": r2_score(y_test, y_pred_ridge),\n",
    "    \"Lasso Regression\": r2_score(y_test, y_pred_lasso),\n",
    "    \"Random Forest\": r2_score(y_test, y_pred_rf),\n",
    "    \"Stacking Regression\": r2_score(y_test, y_pred_stack),\n",
    "}\n",
    "\n",
    "n, p = X_test.shape\n",
    "adj_r2_values = {model: 1 - ((1 - r2) * (n - 1) / (n - p - 1)) for model, r2 in r2_values.items()}\n",
    "\n",
    "# --------------------------------------------------------------------------------------\n",
    "# **6. Compare Coefficients & Feature Importance**\n",
    "# --------------------------------------------------------------------------------------\n",
    "\n",
    "# 📌 Extract coefficients for models with explicit coefficients\n",
    "linear_coefs = linear_pipeline.named_steps['linearregression'].coef_[:30]\n",
    "poly_coefs = poly_pipeline.named_steps['linearregression'].coef_[:30]\n",
    "ridge_coefs = ridge_pipeline.named_steps['ridge'].coef_[:30]\n",
    "lasso_coefs = lasso_pipeline.named_steps['lasso'].coef_[:30]\n",
    "\n",
    "# 📌 Extract feature importance for Random Forest\n",
    "rf_importance = rf_pipeline.named_steps['randomforestregressor'].feature_importances_[:30]\n",
    "\n",
    "# 📌 Extract Stacking Model Coefficients (Final Estimator)\n",
    "stacking_coefs = stacking_model.final_estimator_.coef_[:30]\n",
    "\n",
    "# 📌 Plot the Coefficients & Feature Importances\n",
    "plt.figure(figsize=(12, 8))\n",
    "plt.plot(linear_coefs, label='Simple Linear Regression', marker='o', linestyle='-', color='green', alpha=0.7)\n",
    "plt.plot(poly_coefs, label='Polynomial Regression (Degree 2)', marker='s', linestyle='--', color='red', alpha=0.7)\n",
    "plt.plot(ridge_coefs, label=f'Ridge Regression (alpha={best_ridge_alpha})', marker='^', linestyle='-.', color='black', alpha=0.7)\n",
    "plt.plot(lasso_coefs, label=f'Lasso Regression (alpha={best_lasso_alpha})', marker='d', linestyle=':', color='blue', alpha=0.7)\n",
    "plt.plot(rf_importance, label='Random Forest Feature Importance', marker='*', linestyle='-.', color='purple', alpha=0.7)\n",
    "plt.plot(stacking_coefs, label='Stacking Model Coefficients', marker='x', linestyle='--', color='orange', alpha=0.7)\n",
    "\n",
    "plt.xlabel('Feature Index')\n",
    "plt.ylabel('Coefficient / Importance Value')\n",
    "plt.title('Model Comparison: Coefficients & Feature Importance')\n",
    "plt.legend()\n",
    "plt.grid(True, linestyle=\"--\", alpha=0.5)\n",
    "plt.show()\n",
    "\n",
    "# 📌 Store and Print Model Performance\n",
    "results_df = pd.DataFrame({\"Model\": mse_values.keys(), \"MSE\": mse_values.values(), \"RMSE\": rmse_values.values(), \"R² Score\": r2_values.values(), \"Adjusted R²\": adj_r2_values.values()})\n",
    "print(\"\\n📌 Model Performance Comparison:\\n\")\n",
    "print(results_df.to_string(index=False))\n"
   ]
  },
  {
   "cell_type": "markdown",
   "metadata": {},
   "source": [
    "### <b> Model selection </b>\n",
    "<b> Which model is the best in your view to predict the housing price, `SalePrice`, and why? \n",
    "\n",
    "</b> <br><div style=\"background-color: #d1f5d3; border-left: 5px solid #92c892; padding: 10px;\">\n",
    "\n",
    "To determine the best model, we evaluate them based on accuracy, interpretability, and generalization:\n",
    "\n",
    "1️⃣ Accuracy (How well does the model predict housing prices?)\n",
    "\n",
    "****Ridge Regression (MSE: 0.0175, Adjusted R²: 0.883)** and Stacking Regression (MSE: 0.0176, Adjusted R²: 0.882) provide the most accurate predictions.\n",
    "Both models have the lowest Mean Squared Error (MSE), meaning they make fewer mistakes when predicting housing prices.\n",
    "\n",
    "2️⃣ Interpretability (How easy is it to explain to clients?)\n",
    "\n",
    "Linear and **Ridge Regression are the easiest to explain**, as they show how each feature (e.g., square footage, number of rooms) influences price.\n",
    "Random Forest and Stacking Regression are harder to interpret because they combine multiple models and don’t provide direct insights into how each variable affects price.\n",
    "\n",
    "3️⃣ Generalization (How well does the model perform on new data?)\n",
    "\n",
    "**Ridge Regression is the best at generalizing to new data** because it prevents overfitting by applying regularization, ensuring stable performance.\n",
    "Stacking Regression also generalizes well but is more complex, which could lead to additional tuning needs in the future.\n",
    "\n",
    "\n",
    "<b>For a business decision, <u>Ridge Regression</u> is the best choice because it accurately predicts housing prices, is easy to explain to stakeholders, and generalizes well to new properties.</b>\n",
    "\n",
    "</div>"
   ]
  },
  {
   "cell_type": "markdown",
   "metadata": {},
   "source": [
    "#### <b>Performance evaluation</b>\n",
    "<b> How well does your model generalize to unseen data? (Hint: Evaluate the model's performance on the test set) </b>"
   ]
  },
  {
   "cell_type": "markdown",
   "metadata": {},
   "source": [
    "<div style=\"background-color: #d1f5d3; border-left: 5px solid #92c892; padding: 10px;\">\n",
    "\n",
    "A good model must work not just on past sales but also on new, unseen properties. Every model was tested on unseen homes (test dataset) to ensure reliability.\n",
    "\n",
    "Ridge Regression exceled at this.\n",
    "\n",
    "✔ Ridge Regression was selected as the best model based on real performance.\n",
    "\n",
    "✔ The results reveal clear patterns in home pricing—offering practical insights.\n",
    "\n",
    "**Performance of Ridge Regression:**\n",
    "\n",
    "1. It renders Minimal prediction errors (MSE = 0.0175, RMSE = 0.1325) → The model accurately estimates home prices with very small mistakes, ensuring reliable valuations.\n",
    "\n",
    "2. It explains what affects home prices (Adjusted R² = 0.883) → It also identifies which factors matter most, rather than randomly guessing.\n",
    "\n",
    "3. More complex models performed worse → Polynomial Regression, which introduced unnecessary complexity, failed completely (Adjusted R² = -0.018), proving that simplicity and stability matter more.\n",
    "\n",
    "With this level of accuracy and high explainability (adjusted R² = 0.883), this model can be trusted to provide reliable home price estimates even for properties that were not part of the original data.\n",
    "\n",
    "Moreover, this model doesn’t just predict home prices—it learns real pricing trends that can be applied to new, unseen properties with confidence.\n",
    "</div>\n"
   ]
  },
  {
   "cell_type": "code",
   "execution_count": 81,
   "metadata": {},
   "outputs": [
    {
     "name": "stdout",
     "output_type": "stream",
     "text": [
      "\n",
      "📌 Top 10 Most Influential Features (Ridge Regression):\n",
      "\n",
      "                  Feature  Coefficient\n",
      " cat__Exterior1st_BrkFace     0.111306\n",
      "         num__OverallQual     0.104958\n",
      "cat__Neighborhood_Crawfor     0.090925\n",
      "      cat__BldgType_Twnhs    -0.089897\n",
      "cat__Neighborhood_MeadowV    -0.080124\n",
      "cat__Neighborhood_StoneBr     0.073642\n",
      "cat__Neighborhood_NoRidge     0.072491\n",
      "cat__SaleCondition_Normal     0.065717\n",
      "        cat__Heating_GasW     0.064541\n",
      "        num__TotRmsAbvGrd     0.063689\n"
     ]
    },
    {
     "data": {
      "image/png": "[encoded data removed]",
      "text/plain": [
       "<Figure size 1000x600 with 1 Axes>"
      ]
     },
     "metadata": {},
     "output_type": "display_data"
    }
   ],
   "source": [
    "# 📌 Retrieve the best Ridge model from GridSearchCV\n",
    "best_ridge = ridge_grid.best_estimator_.named_steps['ridge']\n",
    "\n",
    "# 📌 Extract the correct preprocessor from the pipeline\n",
    "preprocessor = ridge_grid.best_estimator_.steps[0][1]  # Correct way to get preprocessor\n",
    "\n",
    "# 📌 Extract feature names after transformation\n",
    "feature_names = preprocessor.get_feature_names_out()\n",
    "\n",
    "# 📌 Create DataFrame for coefficients (keeping original values but sorting by absolute magnitude)\n",
    "coef_df = pd.DataFrame({\n",
    "    \"Feature\": feature_names,\n",
    "    \"Coefficient\": best_ridge.coef_\n",
    "})\n",
    "\n",
    "# 📌 Sort by absolute coefficient magnitude while keeping original sign\n",
    "coef_df[\"Abs_Coefficient\"] = np.abs(coef_df[\"Coefficient\"])\n",
    "coef_df = coef_df.sort_values(by=\"Abs_Coefficient\", ascending=False).drop(columns=[\"Abs_Coefficient\"])\n",
    "\n",
    "# 📌 Display the top 10 most important features\n",
    "print(\"\\n📌 Top 10 Most Influential Features (Ridge Regression):\\n\")\n",
    "print(coef_df.head(10).to_string(index=False))\n",
    "\n",
    "# 📌 Extract the top 10 features for plotting\n",
    "top_10_features = coef_df.head(10)\n",
    "\n",
    "# 📌 Plot the top 10 features\n",
    "plt.figure(figsize=(10, 6))\n",
    "plt.barh(top_10_features[\"Feature\"], top_10_features[\"Coefficient\"], color=\"steelblue\")\n",
    "plt.xlabel(\"Coefficient Value (Positive/Negative Impact)\", fontsize=12)\n",
    "plt.ylabel(\"Feature\", fontsize=12)\n",
    "plt.title(\"Top 10 Most Influential Features (Ridge Regression)\", fontsize=14)\n",
    "plt.axvline(x=0, color='black', linestyle='--', linewidth=1)  # Add a vertical line at zero\n",
    "plt.gca().invert_yaxis()  # Invert y-axis so the most important feature is at the top\n",
    "\n",
    "# 📌 Show the Plot\n",
    "plt.show()\n"
   ]
  },
  {
   "cell_type": "markdown",
   "metadata": {},
   "source": [
    "#### <b>Interpretation of findings</b>\n",
    "<b> Can you say something about what you have found? A short paragraph will suffice.</b> <br>"
   ]
  },
  {
   "cell_type": "markdown",
   "metadata": {},
   "source": [
    "<div style=\"background-color: #d1f5d3; border-left: 5px solid #92c892; padding: 10px;\">\n",
    "\n",
    "Ridge Regression is the best model for home price prediction.\n",
    "\n",
    "Why This Model is Highly Predictive:\n",
    "A model is only as good as its input data. This analysis focused on:\n",
    "\n",
    "✅ Handling missing values properly → Instead of deleting missing data, careful imputation methods were used based on logical business rules.\n",
    "\n",
    "✅ Encoding categorical features correctly → Neighborhoods, home quality, exterior materials, and heating types were numerically converted for meaningful model interpretation.\n",
    "\n",
    "✅ Creating new, informative features → Total square footage, total bathrooms, and lot frontage ratio were added to improve predictive power.\n",
    "\n",
    "✅ Removing redundant & multicollinear features → Variables that added noise but no extra information were removed using Variance Inflation Factor (VIF) analysis.\n",
    "\n",
    "✅ Applying log transformation to unskewed variables like SalePrice → House prices often vary widely, making raw price predictions unstable. Log transformation ensured a more balanced distribution, leading to better predictions and lower errors.\n",
    "\n",
    "**Beyond just making predictions, the model reveals key insights about what makes home prices rise or fall.**\n",
    "\n",
    "### 📌 Top 10 Most Influential Features in Ridge Regression\n",
    "\n",
    "| **Feature**                              | **Interpretation** | **Effect on Price** |\n",
    "|------------------------------------------|--------------------|---------------------|\n",
    "| **Brick Face Exterior (`Exterior1st_BrkFace`)** | Homes with **Brick Face exteriors** tend to be **more expensive** due to **higher durability and curb appeal**. | ⬆ **Increases price** (+0.111) |\n",
    "| **Overall Quality (`OverallQual`)** | A home’s **overall quality rating** significantly impacts price. Higher-quality homes command **higher prices**. | ⬆ **Increases price** (+0.105) |\n",
    "| **Crawford Neighborhood (`Neighborhood_Crawfor`)** | **Location matters**—homes in **Crawford** sell for **higher prices** due to **better amenities and desirability**. | ⬆ **Increases price** (+0.091) |\n",
    "| **Townhouse (`BldgType_Twnhs`)** | Townhouses are **cheaper than detached homes**, possibly due to **shared walls, smaller lot sizes, and lower privacy**. | ⬇ **Decreases price** (-0.090) |\n",
    "| **Meadow Village Neighborhood (`Neighborhood_MeadowV`)** | Homes in **Meadow Village** sell for **lower prices**, likely due to **weaker demand or fewer amenities**. | ⬇ **Decreases price** (-0.080) |\n",
    "| **Stone Brook Neighborhood (`Neighborhood_StoneBr`)** | Homes in **Stone Brook** are **more valuable**, possibly due to **higher-end developments and strong demand**. | ⬆ **Increases price** (+0.074) |\n",
    "| **North Ridge Neighborhood (`Neighborhood_NoRidge`)** | **Another high-value neighborhood**, homes in **North Ridge** tend to sell for more due to **better infrastructure and demand**. | ⬆ **Increases price** (+0.072) |\n",
    "| **Normal Sale Condition (`SaleCondition_Normal`)** | Houses sold under **normal market conditions** (not foreclosures or auctions) maintain their **market value**. | ⬆ **Increases price** (+0.066) |\n",
    "| **Gas Water Heating (`Heating_GasW`)** | Homes with **Gas Water Heating systems** appear more desirable due to **better efficiency and lower costs**. | ⬆ **Increases price** (+0.065) |\n",
    "| **Total Number of Rooms (`TotRmsAbvGrd`)** | **More rooms typically increase a home’s price**, as buyers value **spaciousness and additional space**. | ⬆ **Increases price** (+0.064) |\n",
    "\n",
    "\n",
    "These insights go beyond raw numbers—they provide real, actionable knowledge about what truly drives property value.\n"
   ]
  },
  {
   "cell_type": "markdown",
   "metadata": {},
   "source": [
    "### <b>Implication of the Study </b>"
   ]
  },
  {
   "cell_type": "markdown",
   "metadata": {},
   "source": [
    "<div style=\"background-color: #d1f5d3; border-left: 5px solid #92c892; padding: 10px;\">\n",
    "\n",
    "For **Sellers** → Maximize home value by improving key features. The data shows that investing in higher-quality materials and premium exterior finishes leads to higher selling prices. If the home is located in a high-value neighborhood, setting a competitive price ensures a faster sale at maximum value.\n",
    "\n",
    "For **Buyers** → Make smarter purchasing decisions. Buyers seeking long-term value should focus on high-rated neighborhoods and homes with better construction quality. Avoiding low-rated areas and properties with less desirable features can ensure a better resale value in the future.\n",
    "\n",
    "For **Real Estate Investors** → Identify profitable opportunities. Buying undervalued homes in low-cost neighborhoods with potential growth (like Meadow Village) could be a high-return investment. Meanwhile, avoiding overpriced features that don’t significantly impact sale price can prevent over-investment in unnecessary upgrades.\n",
    "\n",
    "\n",
    "</div>"
   ]
  }
 ],
 "metadata": {
  "kernelspec": {
   "display_name": "base",
   "language": "python",
   "name": "python3"
  },
  "language_info": {
   "codemirror_mode": {
    "name": "ipython",
    "version": 3
   },
   "file_extension": ".py",
   "mimetype": "text/x-python",
   "name": "python",
   "nbconvert_exporter": "python",
   "pygments_lexer": "ipython3",
   "version": "3.12.7"
  }
 },
 "nbformat": 4,
 "nbformat_minor": 2
}
